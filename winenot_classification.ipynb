{
 "cells": [
  {
   "cell_type": "markdown",
   "metadata": {},
   "source": [
    "## Import libraries"
   ]
  },
  {
   "cell_type": "code",
   "execution_count": 1,
   "metadata": {
    "ExecuteTime": {
     "end_time": "2019-04-26T17:17:23.039699Z",
     "start_time": "2019-04-26T17:17:20.355991Z"
    }
   },
   "outputs": [],
   "source": [
    "# General libraries\n",
    "import numpy as np\n",
    "import pandas as pd\n",
    "import matplotlib.pyplot as plt\n",
    "import seaborn as sns\n",
    "\n",
    "# Connect with AWS\n",
    "from sqlalchemy import create_engine\n",
    "\n",
    "# Modeling functions\n",
    "from sklearn.model_selection import train_test_split, learning_curve, cross_val_score\n",
    "from sklearn.neighbors import KNeighborsClassifier\n",
    "from sklearn.metrics import accuracy_score, precision_score, recall_score, f1_score, roc_curve, roc_auc_score, confusion_matrix\n",
    "from sklearn.linear_model import LogisticRegression, LogisticRegressionCV\n",
    "from sklearn.dummy import DummyClassifier\n",
    "\n",
    "from sklearn.naive_bayes import GaussianNB\n",
    "from sklearn.svm import SVC\n",
    "from sklearn.tree import DecisionTreeClassifier\n",
    "from sklearn.ensemble import RandomForestClassifier, VotingClassifier \n",
    "from sklearn import tree\n",
    "\n",
    "# Built modules\n",
    "import sys\n",
    "sys.path.append('/Users/laurengilson/laurenhoward_github')\n",
    "from modeling_funcs import *\n",
    "\n",
    "# Jupyter Formatting\n",
    "import warnings\n",
    "warnings.filterwarnings('ignore')\n",
    "%matplotlib inline"
   ]
  },
  {
   "cell_type": "markdown",
   "metadata": {},
   "source": [
    "## Connect database for queries"
   ]
  },
  {
   "cell_type": "code",
   "execution_count": null,
   "metadata": {
    "ExecuteTime": {
     "start_time": "2019-04-26T17:16:30.432Z"
    }
   },
   "outputs": [],
   "source": [
    "connection = create_engine('postgresql://ubuntu:@18.225.36.12:5432/wine') #IP address changes - check EC2 instance\n",
    "pd.read_sql_query('''SELECT * FROM winetable LIMIT 5;''', connection)"
   ]
  },
  {
   "cell_type": "markdown",
   "metadata": {},
   "source": [
    "## Cleaning and EDA"
   ]
  },
  {
   "cell_type": "markdown",
   "metadata": {},
   "source": [
    "### Tidy and make ML friendly"
   ]
  },
  {
   "cell_type": "code",
   "execution_count": 30,
   "metadata": {
    "ExecuteTime": {
     "end_time": "2019-04-26T17:18:07.431325Z",
     "start_time": "2019-04-26T17:18:07.409247Z"
    }
   },
   "outputs": [],
   "source": [
    "# Read .csv file of data\n",
    "wine = pd.read_csv('/Users/laurengilson/metis_bootcamp/Projects/project3_mcnulty/winequality.csv')"
   ]
  },
  {
   "cell_type": "code",
   "execution_count": 31,
   "metadata": {
    "ExecuteTime": {
     "end_time": "2019-04-26T17:18:07.920722Z",
     "start_time": "2019-04-26T17:18:07.914135Z"
    }
   },
   "outputs": [],
   "source": [
    "# Remove Quality and Good columns - these are subjective from original dataset use - not attributes of each wine. \n",
    "wine.drop(wine[[\"quality\",\"good\"]], axis=1, inplace=True)"
   ]
  },
  {
   "cell_type": "code",
   "execution_count": 32,
   "metadata": {
    "ExecuteTime": {
     "end_time": "2019-04-26T17:18:09.099779Z",
     "start_time": "2019-04-26T17:18:09.089602Z"
    }
   },
   "outputs": [],
   "source": [
    "# Create predictor column (Y) and drop text column of wine colors: \n",
    "def wine_color(color):\n",
    "    '''Creates predictor value for wine color.\n",
    "    White = 0\n",
    "    Red = 1'''\n",
    "    \n",
    "    if color == 'white':\n",
    "        return 0\n",
    "    if color == 'red':\n",
    "        return 1\n",
    "\n",
    "wine[\"predictor\"] = wine[\"color\"].apply(wine_color)\n",
    "wine.drop(\"color\", axis=1, inplace=True)"
   ]
  },
  {
   "cell_type": "code",
   "execution_count": 33,
   "metadata": {
    "ExecuteTime": {
     "end_time": "2019-04-26T17:18:09.579310Z",
     "start_time": "2019-04-26T17:18:09.575572Z"
    }
   },
   "outputs": [],
   "source": [
    "# Replace white space in column names with underscores\n",
    "wine.columns = wine.columns.str.replace(' ', '_')"
   ]
  },
  {
   "cell_type": "code",
   "execution_count": 34,
   "metadata": {
    "ExecuteTime": {
     "end_time": "2019-04-26T17:18:10.083261Z",
     "start_time": "2019-04-26T17:18:10.077752Z"
    }
   },
   "outputs": [],
   "source": [
    "# Create feature of percentage of sulphur dioxide is free\n",
    "wine[\"free_percentage\"] = ((wine[\"free_sulfur_dioxide\"]/wine[\"total_sulfur_dioxide\"])*100).round(2)"
   ]
  },
  {
   "cell_type": "code",
   "execution_count": 35,
   "metadata": {
    "ExecuteTime": {
     "end_time": "2019-04-26T17:18:10.611366Z",
     "start_time": "2019-04-26T17:18:10.591151Z"
    }
   },
   "outputs": [
    {
     "data": {
      "text/html": [
       "<div>\n",
       "<style scoped>\n",
       "    .dataframe tbody tr th:only-of-type {\n",
       "        vertical-align: middle;\n",
       "    }\n",
       "\n",
       "    .dataframe tbody tr th {\n",
       "        vertical-align: top;\n",
       "    }\n",
       "\n",
       "    .dataframe thead th {\n",
       "        text-align: right;\n",
       "    }\n",
       "</style>\n",
       "<table border=\"1\" class=\"dataframe\">\n",
       "  <thead>\n",
       "    <tr style=\"text-align: right;\">\n",
       "      <th></th>\n",
       "      <th>fixed_acidity</th>\n",
       "      <th>volatile_acidity</th>\n",
       "      <th>citric_acid</th>\n",
       "      <th>residual_sugar</th>\n",
       "      <th>chlorides</th>\n",
       "      <th>free_sulfur_dioxide</th>\n",
       "      <th>total_sulfur_dioxide</th>\n",
       "      <th>density</th>\n",
       "      <th>pH</th>\n",
       "      <th>sulphates</th>\n",
       "      <th>alcohol</th>\n",
       "      <th>predictor</th>\n",
       "      <th>free_percentage</th>\n",
       "    </tr>\n",
       "  </thead>\n",
       "  <tbody>\n",
       "    <tr>\n",
       "      <th>0</th>\n",
       "      <td>7.4</td>\n",
       "      <td>0.70</td>\n",
       "      <td>0.00</td>\n",
       "      <td>1.9</td>\n",
       "      <td>0.076</td>\n",
       "      <td>11.0</td>\n",
       "      <td>34.0</td>\n",
       "      <td>0.9978</td>\n",
       "      <td>3.51</td>\n",
       "      <td>0.56</td>\n",
       "      <td>9.4</td>\n",
       "      <td>1</td>\n",
       "      <td>32.35</td>\n",
       "    </tr>\n",
       "    <tr>\n",
       "      <th>1</th>\n",
       "      <td>7.8</td>\n",
       "      <td>0.88</td>\n",
       "      <td>0.00</td>\n",
       "      <td>2.6</td>\n",
       "      <td>0.098</td>\n",
       "      <td>25.0</td>\n",
       "      <td>67.0</td>\n",
       "      <td>0.9968</td>\n",
       "      <td>3.20</td>\n",
       "      <td>0.68</td>\n",
       "      <td>9.8</td>\n",
       "      <td>1</td>\n",
       "      <td>37.31</td>\n",
       "    </tr>\n",
       "    <tr>\n",
       "      <th>2</th>\n",
       "      <td>7.8</td>\n",
       "      <td>0.76</td>\n",
       "      <td>0.04</td>\n",
       "      <td>2.3</td>\n",
       "      <td>0.092</td>\n",
       "      <td>15.0</td>\n",
       "      <td>54.0</td>\n",
       "      <td>0.9970</td>\n",
       "      <td>3.26</td>\n",
       "      <td>0.65</td>\n",
       "      <td>9.8</td>\n",
       "      <td>1</td>\n",
       "      <td>27.78</td>\n",
       "    </tr>\n",
       "    <tr>\n",
       "      <th>3</th>\n",
       "      <td>11.2</td>\n",
       "      <td>0.28</td>\n",
       "      <td>0.56</td>\n",
       "      <td>1.9</td>\n",
       "      <td>0.075</td>\n",
       "      <td>17.0</td>\n",
       "      <td>60.0</td>\n",
       "      <td>0.9980</td>\n",
       "      <td>3.16</td>\n",
       "      <td>0.58</td>\n",
       "      <td>9.8</td>\n",
       "      <td>1</td>\n",
       "      <td>28.33</td>\n",
       "    </tr>\n",
       "    <tr>\n",
       "      <th>4</th>\n",
       "      <td>7.4</td>\n",
       "      <td>0.70</td>\n",
       "      <td>0.00</td>\n",
       "      <td>1.9</td>\n",
       "      <td>0.076</td>\n",
       "      <td>11.0</td>\n",
       "      <td>34.0</td>\n",
       "      <td>0.9978</td>\n",
       "      <td>3.51</td>\n",
       "      <td>0.56</td>\n",
       "      <td>9.4</td>\n",
       "      <td>1</td>\n",
       "      <td>32.35</td>\n",
       "    </tr>\n",
       "  </tbody>\n",
       "</table>\n",
       "</div>"
      ],
      "text/plain": [
       "   fixed_acidity  volatile_acidity  citric_acid  residual_sugar  chlorides  \\\n",
       "0            7.4              0.70         0.00             1.9      0.076   \n",
       "1            7.8              0.88         0.00             2.6      0.098   \n",
       "2            7.8              0.76         0.04             2.3      0.092   \n",
       "3           11.2              0.28         0.56             1.9      0.075   \n",
       "4            7.4              0.70         0.00             1.9      0.076   \n",
       "\n",
       "   free_sulfur_dioxide  total_sulfur_dioxide  density    pH  sulphates  \\\n",
       "0                 11.0                  34.0   0.9978  3.51       0.56   \n",
       "1                 25.0                  67.0   0.9968  3.20       0.68   \n",
       "2                 15.0                  54.0   0.9970  3.26       0.65   \n",
       "3                 17.0                  60.0   0.9980  3.16       0.58   \n",
       "4                 11.0                  34.0   0.9978  3.51       0.56   \n",
       "\n",
       "   alcohol  predictor  free_percentage  \n",
       "0      9.4          1            32.35  \n",
       "1      9.8          1            37.31  \n",
       "2      9.8          1            27.78  \n",
       "3      9.8          1            28.33  \n",
       "4      9.4          1            32.35  "
      ]
     },
     "execution_count": 35,
     "metadata": {},
     "output_type": "execute_result"
    }
   ],
   "source": [
    "wine.head()"
   ]
  },
  {
   "cell_type": "code",
   "execution_count": 36,
   "metadata": {
    "ExecuteTime": {
     "end_time": "2019-04-26T17:18:14.770714Z",
     "start_time": "2019-04-26T17:18:14.706106Z"
    }
   },
   "outputs": [
    {
     "data": {
      "text/html": [
       "<div>\n",
       "<style scoped>\n",
       "    .dataframe tbody tr th:only-of-type {\n",
       "        vertical-align: middle;\n",
       "    }\n",
       "\n",
       "    .dataframe tbody tr th {\n",
       "        vertical-align: top;\n",
       "    }\n",
       "\n",
       "    .dataframe thead th {\n",
       "        text-align: right;\n",
       "    }\n",
       "</style>\n",
       "<table border=\"1\" class=\"dataframe\">\n",
       "  <thead>\n",
       "    <tr style=\"text-align: right;\">\n",
       "      <th></th>\n",
       "      <th>fixed_acidity</th>\n",
       "      <th>volatile_acidity</th>\n",
       "      <th>citric_acid</th>\n",
       "      <th>residual_sugar</th>\n",
       "      <th>chlorides</th>\n",
       "      <th>free_sulfur_dioxide</th>\n",
       "      <th>total_sulfur_dioxide</th>\n",
       "      <th>density</th>\n",
       "      <th>pH</th>\n",
       "      <th>sulphates</th>\n",
       "      <th>alcohol</th>\n",
       "      <th>predictor</th>\n",
       "      <th>free_percentage</th>\n",
       "    </tr>\n",
       "  </thead>\n",
       "  <tbody>\n",
       "    <tr>\n",
       "      <th>count</th>\n",
       "      <td>6497.000000</td>\n",
       "      <td>6497.000000</td>\n",
       "      <td>6497.000000</td>\n",
       "      <td>6497.000000</td>\n",
       "      <td>6497.000000</td>\n",
       "      <td>6497.000000</td>\n",
       "      <td>6497.000000</td>\n",
       "      <td>6497.000000</td>\n",
       "      <td>6497.000000</td>\n",
       "      <td>6497.000000</td>\n",
       "      <td>6497.000000</td>\n",
       "      <td>6497.000000</td>\n",
       "      <td>6497.000000</td>\n",
       "    </tr>\n",
       "    <tr>\n",
       "      <th>mean</th>\n",
       "      <td>7.215307</td>\n",
       "      <td>0.339666</td>\n",
       "      <td>0.318633</td>\n",
       "      <td>5.443235</td>\n",
       "      <td>0.056034</td>\n",
       "      <td>30.525319</td>\n",
       "      <td>115.744574</td>\n",
       "      <td>0.994697</td>\n",
       "      <td>3.218501</td>\n",
       "      <td>0.531268</td>\n",
       "      <td>10.491801</td>\n",
       "      <td>0.246114</td>\n",
       "      <td>28.676728</td>\n",
       "    </tr>\n",
       "    <tr>\n",
       "      <th>std</th>\n",
       "      <td>1.296434</td>\n",
       "      <td>0.164636</td>\n",
       "      <td>0.145318</td>\n",
       "      <td>4.757804</td>\n",
       "      <td>0.035034</td>\n",
       "      <td>17.749400</td>\n",
       "      <td>56.521855</td>\n",
       "      <td>0.002999</td>\n",
       "      <td>0.160787</td>\n",
       "      <td>0.148806</td>\n",
       "      <td>1.192712</td>\n",
       "      <td>0.430779</td>\n",
       "      <td>12.464543</td>\n",
       "    </tr>\n",
       "    <tr>\n",
       "      <th>min</th>\n",
       "      <td>3.800000</td>\n",
       "      <td>0.080000</td>\n",
       "      <td>0.000000</td>\n",
       "      <td>0.600000</td>\n",
       "      <td>0.009000</td>\n",
       "      <td>1.000000</td>\n",
       "      <td>6.000000</td>\n",
       "      <td>0.987110</td>\n",
       "      <td>2.720000</td>\n",
       "      <td>0.220000</td>\n",
       "      <td>8.000000</td>\n",
       "      <td>0.000000</td>\n",
       "      <td>2.270000</td>\n",
       "    </tr>\n",
       "    <tr>\n",
       "      <th>25%</th>\n",
       "      <td>6.400000</td>\n",
       "      <td>0.230000</td>\n",
       "      <td>0.250000</td>\n",
       "      <td>1.800000</td>\n",
       "      <td>0.038000</td>\n",
       "      <td>17.000000</td>\n",
       "      <td>77.000000</td>\n",
       "      <td>0.992340</td>\n",
       "      <td>3.110000</td>\n",
       "      <td>0.430000</td>\n",
       "      <td>9.500000</td>\n",
       "      <td>0.000000</td>\n",
       "      <td>20.210000</td>\n",
       "    </tr>\n",
       "    <tr>\n",
       "      <th>50%</th>\n",
       "      <td>7.000000</td>\n",
       "      <td>0.290000</td>\n",
       "      <td>0.310000</td>\n",
       "      <td>3.000000</td>\n",
       "      <td>0.047000</td>\n",
       "      <td>29.000000</td>\n",
       "      <td>118.000000</td>\n",
       "      <td>0.994890</td>\n",
       "      <td>3.210000</td>\n",
       "      <td>0.510000</td>\n",
       "      <td>10.300000</td>\n",
       "      <td>0.000000</td>\n",
       "      <td>26.980000</td>\n",
       "    </tr>\n",
       "    <tr>\n",
       "      <th>75%</th>\n",
       "      <td>7.700000</td>\n",
       "      <td>0.400000</td>\n",
       "      <td>0.390000</td>\n",
       "      <td>8.100000</td>\n",
       "      <td>0.065000</td>\n",
       "      <td>41.000000</td>\n",
       "      <td>156.000000</td>\n",
       "      <td>0.996990</td>\n",
       "      <td>3.320000</td>\n",
       "      <td>0.600000</td>\n",
       "      <td>11.300000</td>\n",
       "      <td>0.000000</td>\n",
       "      <td>34.880000</td>\n",
       "    </tr>\n",
       "    <tr>\n",
       "      <th>max</th>\n",
       "      <td>15.900000</td>\n",
       "      <td>1.580000</td>\n",
       "      <td>1.660000</td>\n",
       "      <td>65.800000</td>\n",
       "      <td>0.611000</td>\n",
       "      <td>289.000000</td>\n",
       "      <td>440.000000</td>\n",
       "      <td>1.038980</td>\n",
       "      <td>4.010000</td>\n",
       "      <td>2.000000</td>\n",
       "      <td>14.900000</td>\n",
       "      <td>1.000000</td>\n",
       "      <td>85.710000</td>\n",
       "    </tr>\n",
       "  </tbody>\n",
       "</table>\n",
       "</div>"
      ],
      "text/plain": [
       "       fixed_acidity  volatile_acidity  citric_acid  residual_sugar  \\\n",
       "count    6497.000000       6497.000000  6497.000000     6497.000000   \n",
       "mean        7.215307          0.339666     0.318633        5.443235   \n",
       "std         1.296434          0.164636     0.145318        4.757804   \n",
       "min         3.800000          0.080000     0.000000        0.600000   \n",
       "25%         6.400000          0.230000     0.250000        1.800000   \n",
       "50%         7.000000          0.290000     0.310000        3.000000   \n",
       "75%         7.700000          0.400000     0.390000        8.100000   \n",
       "max        15.900000          1.580000     1.660000       65.800000   \n",
       "\n",
       "         chlorides  free_sulfur_dioxide  total_sulfur_dioxide      density  \\\n",
       "count  6497.000000          6497.000000           6497.000000  6497.000000   \n",
       "mean      0.056034            30.525319            115.744574     0.994697   \n",
       "std       0.035034            17.749400             56.521855     0.002999   \n",
       "min       0.009000             1.000000              6.000000     0.987110   \n",
       "25%       0.038000            17.000000             77.000000     0.992340   \n",
       "50%       0.047000            29.000000            118.000000     0.994890   \n",
       "75%       0.065000            41.000000            156.000000     0.996990   \n",
       "max       0.611000           289.000000            440.000000     1.038980   \n",
       "\n",
       "                pH    sulphates      alcohol    predictor  free_percentage  \n",
       "count  6497.000000  6497.000000  6497.000000  6497.000000      6497.000000  \n",
       "mean      3.218501     0.531268    10.491801     0.246114        28.676728  \n",
       "std       0.160787     0.148806     1.192712     0.430779        12.464543  \n",
       "min       2.720000     0.220000     8.000000     0.000000         2.270000  \n",
       "25%       3.110000     0.430000     9.500000     0.000000        20.210000  \n",
       "50%       3.210000     0.510000    10.300000     0.000000        26.980000  \n",
       "75%       3.320000     0.600000    11.300000     0.000000        34.880000  \n",
       "max       4.010000     2.000000    14.900000     1.000000        85.710000  "
      ]
     },
     "execution_count": 36,
     "metadata": {},
     "output_type": "execute_result"
    }
   ],
   "source": [
    "wine.describe()"
   ]
  },
  {
   "cell_type": "markdown",
   "metadata": {},
   "source": [
    "### Check Data Imbalance"
   ]
  },
  {
   "cell_type": "code",
   "execution_count": 37,
   "metadata": {
    "ExecuteTime": {
     "end_time": "2019-04-26T17:18:16.089040Z",
     "start_time": "2019-04-26T17:18:16.080726Z"
    }
   },
   "outputs": [
    {
     "name": "stdout",
     "output_type": "stream",
     "text": [
      " White Wine Samples: 75.39%\n",
      " Red Wine Samples: 24.61%\n"
     ]
    }
   ],
   "source": [
    "print(f\" White Wine Samples: {((wine.predictor.value_counts()[0]/wine.predictor.count())*100).round(2)}%\")\n",
    "print(f\" Red Wine Samples: {((wine.predictor.value_counts()[1]/wine.predictor.count())*100).round(2)}%\")"
   ]
  },
  {
   "cell_type": "markdown",
   "metadata": {},
   "source": [
    "- Keep imbalance for now, re-evaluate later if models don't perform too well."
   ]
  },
  {
   "cell_type": "markdown",
   "metadata": {},
   "source": [
    "### Check features"
   ]
  },
  {
   "cell_type": "markdown",
   "metadata": {},
   "source": [
    "- Compare means of each feature against predictor\n",
    "- Gives an idea of any features that are significantly different for each type of wine"
   ]
  },
  {
   "cell_type": "code",
   "execution_count": 38,
   "metadata": {
    "ExecuteTime": {
     "end_time": "2019-04-26T17:18:17.485698Z",
     "start_time": "2019-04-26T17:18:17.465134Z"
    }
   },
   "outputs": [
    {
     "data": {
      "text/html": [
       "<div>\n",
       "<style scoped>\n",
       "    .dataframe tbody tr th:only-of-type {\n",
       "        vertical-align: middle;\n",
       "    }\n",
       "\n",
       "    .dataframe tbody tr th {\n",
       "        vertical-align: top;\n",
       "    }\n",
       "\n",
       "    .dataframe thead th {\n",
       "        text-align: right;\n",
       "    }\n",
       "</style>\n",
       "<table border=\"1\" class=\"dataframe\">\n",
       "  <thead>\n",
       "    <tr style=\"text-align: right;\">\n",
       "      <th></th>\n",
       "      <th>fixed_acidity</th>\n",
       "      <th>volatile_acidity</th>\n",
       "      <th>citric_acid</th>\n",
       "      <th>residual_sugar</th>\n",
       "      <th>chlorides</th>\n",
       "      <th>free_sulfur_dioxide</th>\n",
       "      <th>total_sulfur_dioxide</th>\n",
       "      <th>density</th>\n",
       "      <th>pH</th>\n",
       "      <th>sulphates</th>\n",
       "      <th>alcohol</th>\n",
       "      <th>free_percentage</th>\n",
       "    </tr>\n",
       "    <tr>\n",
       "      <th>predictor</th>\n",
       "      <th></th>\n",
       "      <th></th>\n",
       "      <th></th>\n",
       "      <th></th>\n",
       "      <th></th>\n",
       "      <th></th>\n",
       "      <th></th>\n",
       "      <th></th>\n",
       "      <th></th>\n",
       "      <th></th>\n",
       "      <th></th>\n",
       "      <th></th>\n",
       "    </tr>\n",
       "  </thead>\n",
       "  <tbody>\n",
       "    <tr>\n",
       "      <th>0</th>\n",
       "      <td>6.854788</td>\n",
       "      <td>0.278241</td>\n",
       "      <td>0.334192</td>\n",
       "      <td>6.391415</td>\n",
       "      <td>0.045772</td>\n",
       "      <td>35.308085</td>\n",
       "      <td>138.360657</td>\n",
       "      <td>0.994027</td>\n",
       "      <td>3.188267</td>\n",
       "      <td>0.489847</td>\n",
       "      <td>10.514267</td>\n",
       "      <td>25.557613</td>\n",
       "    </tr>\n",
       "    <tr>\n",
       "      <th>1</th>\n",
       "      <td>8.319637</td>\n",
       "      <td>0.527821</td>\n",
       "      <td>0.270976</td>\n",
       "      <td>2.538806</td>\n",
       "      <td>0.087467</td>\n",
       "      <td>15.874922</td>\n",
       "      <td>46.467792</td>\n",
       "      <td>0.996747</td>\n",
       "      <td>3.311113</td>\n",
       "      <td>0.658149</td>\n",
       "      <td>10.422983</td>\n",
       "      <td>38.231088</td>\n",
       "    </tr>\n",
       "  </tbody>\n",
       "</table>\n",
       "</div>"
      ],
      "text/plain": [
       "           fixed_acidity  volatile_acidity  citric_acid  residual_sugar  \\\n",
       "predictor                                                                 \n",
       "0               6.854788          0.278241     0.334192        6.391415   \n",
       "1               8.319637          0.527821     0.270976        2.538806   \n",
       "\n",
       "           chlorides  free_sulfur_dioxide  total_sulfur_dioxide   density  \\\n",
       "predictor                                                                   \n",
       "0           0.045772            35.308085            138.360657  0.994027   \n",
       "1           0.087467            15.874922             46.467792  0.996747   \n",
       "\n",
       "                 pH  sulphates    alcohol  free_percentage  \n",
       "predictor                                                   \n",
       "0          3.188267   0.489847  10.514267        25.557613  \n",
       "1          3.311113   0.658149  10.422983        38.231088  "
      ]
     },
     "execution_count": 38,
     "metadata": {},
     "output_type": "execute_result"
    }
   ],
   "source": [
    "wine.groupby('predictor').mean()"
   ]
  },
  {
   "cell_type": "markdown",
   "metadata": {},
   "source": [
    "**Observations:**  \n",
    "- Red tends to have higher fixed acidity, higher percentage of free sulphur dioxide, higher sulphates\n",
    "- White has higher residual sugar, free & total sulphur dioxide "
   ]
  },
  {
   "cell_type": "markdown",
   "metadata": {},
   "source": [
    "- Check each feature against the predictor column - to check if any features are strongly correlated with wine colour"
   ]
  },
  {
   "cell_type": "code",
   "execution_count": 39,
   "metadata": {
    "ExecuteTime": {
     "end_time": "2019-04-26T17:18:22.380871Z",
     "start_time": "2019-04-26T17:18:18.889099Z"
    },
    "scrolled": true
   },
   "outputs": [
    {
     "name": "stdout",
     "output_type": "stream",
     "text": [
      "fixed_acidity\n"
     ]
    },
    {
     "data": {
      "image/png": "[encoded data removed]",
      "text/plain": [
       "<Figure size 432x288 with 1 Axes>"
      ]
     },
     "metadata": {
      "needs_background": "light"
     },
     "output_type": "display_data"
    },
    {
     "name": "stdout",
     "output_type": "stream",
     "text": [
      "volatile_acidity\n"
     ]
    },
    {
     "data": {
      "image/png": "[encoded data removed]",
      "text/plain": [
       "<Figure size 432x288 with 1 Axes>"
      ]
     },
     "metadata": {
      "needs_background": "light"
     },
     "output_type": "display_data"
    },
    {
     "name": "stdout",
     "output_type": "stream",
     "text": [
      "citric_acid\n"
     ]
    },
    {
     "data": {
      "image/png": "[encoded data removed]",
      "text/plain": [
       "<Figure size 432x288 with 1 Axes>"
      ]
     },
     "metadata": {
      "needs_background": "light"
     },
     "output_type": "display_data"
    },
    {
     "name": "stdout",
     "output_type": "stream",
     "text": [
      "residual_sugar\n"
     ]
    },
    {
     "data": {
      "image/png": "[encoded data removed]",
      "text/plain": [
       "<Figure size 432x288 with 1 Axes>"
      ]
     },
     "metadata": {
      "needs_background": "light"
     },
     "output_type": "display_data"
    },
    {
     "name": "stdout",
     "output_type": "stream",
     "text": [
      "chlorides\n"
     ]
    },
    {
     "data": {
      "image/png": "[encoded data removed]",
      "text/plain": [
       "<Figure size 432x288 with 1 Axes>"
      ]
     },
     "metadata": {
      "needs_background": "light"
     },
     "output_type": "display_data"
    },
    {
     "name": "stdout",
     "output_type": "stream",
     "text": [
      "free_sulfur_dioxide\n"
     ]
    },
    {
     "data": {
      "image/png": "[encoded data removed]",
      "text/plain": [
       "<Figure size 432x288 with 1 Axes>"
      ]
     },
     "metadata": {
      "needs_background": "light"
     },
     "output_type": "display_data"
    },
    {
     "name": "stdout",
     "output_type": "stream",
     "text": [
      "total_sulfur_dioxide\n"
     ]
    },
    {
     "data": {
      "image/png": "[encoded data removed]",
      "text/plain": [
       "<Figure size 432x288 with 1 Axes>"
      ]
     },
     "metadata": {
      "needs_background": "light"
     },
     "output_type": "display_data"
    },
    {
     "name": "stdout",
     "output_type": "stream",
     "text": [
      "density\n"
     ]
    },
    {
     "data": {
      "image/png": "[encoded data removed]",
      "text/plain": [
       "<Figure size 432x288 with 1 Axes>"
      ]
     },
     "metadata": {
      "needs_background": "light"
     },
     "output_type": "display_data"
    },
    {
     "name": "stdout",
     "output_type": "stream",
     "text": [
      "pH\n"
     ]
    },
    {
     "data": {
      "image/png": "[encoded data removed]",
      "text/plain": [
       "<Figure size 432x288 with 1 Axes>"
      ]
     },
     "metadata": {
      "needs_background": "light"
     },
     "output_type": "display_data"
    },
    {
     "name": "stdout",
     "output_type": "stream",
     "text": [
      "sulphates\n"
     ]
    },
    {
     "data": {
      "image/png": "[encoded data removed]",
      "text/plain": [
       "<Figure size 432x288 with 1 Axes>"
      ]
     },
     "metadata": {
      "needs_background": "light"
     },
     "output_type": "display_data"
    },
    {
     "name": "stdout",
     "output_type": "stream",
     "text": [
      "alcohol\n"
     ]
    },
    {
     "data": {
      "image/png": "[encoded data removed]",
      "text/plain": [
       "<Figure size 432x288 with 1 Axes>"
      ]
     },
     "metadata": {
      "needs_background": "light"
     },
     "output_type": "display_data"
    },
    {
     "name": "stdout",
     "output_type": "stream",
     "text": [
      "predictor\n"
     ]
    },
    {
     "data": {
      "image/png": "[encoded data removed]",
      "text/plain": [
       "<Figure size 432x288 with 1 Axes>"
      ]
     },
     "metadata": {
      "needs_background": "light"
     },
     "output_type": "display_data"
    },
    {
     "name": "stdout",
     "output_type": "stream",
     "text": [
      "free_percentage\n"
     ]
    },
    {
     "data": {
      "image/png": "[encoded data removed]",
      "text/plain": [
       "<Figure size 432x288 with 1 Axes>"
      ]
     },
     "metadata": {
      "needs_background": "light"
     },
     "output_type": "display_data"
    }
   ],
   "source": [
    "for column in list(wine.columns):\n",
    "    print(column)\n",
    "    plt.scatter(wine[column], wine[\"predictor\"])\n",
    "    plt.xlabel(f\"{column}\")\n",
    "    plt.ylabel(\"Value\")\n",
    "    plt.show()"
   ]
  },
  {
   "cell_type": "markdown",
   "metadata": {
    "ExecuteTime": {
     "end_time": "2019-04-26T16:23:42.745849Z",
     "start_time": "2019-04-26T16:23:42.735390Z"
    }
   },
   "source": [
    "**Observations**:\n",
    "- No total distinctions between features\n",
    "- Some tend to have higher values dependent on the wine e.g. red higher chlorides and white higher residual sugar"
   ]
  },
  {
   "cell_type": "markdown",
   "metadata": {
    "ExecuteTime": {
     "end_time": "2019-04-26T16:23:52.332448Z",
     "start_time": "2019-04-26T16:23:52.327388Z"
    }
   },
   "source": [
    "**Plot particular features against each other into categories:**"
   ]
  },
  {
   "cell_type": "code",
   "execution_count": 40,
   "metadata": {
    "ExecuteTime": {
     "end_time": "2019-04-26T17:18:23.249986Z",
     "start_time": "2019-04-26T17:18:22.803167Z"
    }
   },
   "outputs": [
    {
     "data": {
      "image/png": "[encoded data removed]",
      "text/plain": [
       "<Figure size 413.25x360 with 1 Axes>"
      ]
     },
     "metadata": {
      "needs_background": "light"
     },
     "output_type": "display_data"
    }
   ],
   "source": [
    "# Free Sulphur Dioxide vs Total Sulphur Dioxide\n",
    "sns.pairplot(x_vars=[\"free_sulfur_dioxide\"], y_vars=[\"total_sulfur_dioxide\"], data=wine, hue=\"predictor\", size=5);"
   ]
  },
  {
   "cell_type": "markdown",
   "metadata": {},
   "source": [
    "**Observations:**\n",
    "- Red tends to have lower free and total sulphur dioxide than white.\n",
    "- Percentage of free sulphur therefore lower in white\n",
    "- Doesn't completely separate red and white"
   ]
  },
  {
   "cell_type": "code",
   "execution_count": 41,
   "metadata": {
    "ExecuteTime": {
     "end_time": "2019-04-26T17:18:24.161503Z",
     "start_time": "2019-04-26T17:18:23.681841Z"
    }
   },
   "outputs": [
    {
     "data": {
      "image/png": "[encoded data removed]",
      "text/plain": [
       "<Figure size 413.25x360 with 1 Axes>"
      ]
     },
     "metadata": {
      "needs_background": "light"
     },
     "output_type": "display_data"
    }
   ],
   "source": [
    "# Residual Sugar and Citric Acid\n",
    "sns.pairplot(x_vars=[\"residual_sugar\"], y_vars=[\"citric_acid\"], data=wine, hue=\"predictor\", size=5);"
   ]
  },
  {
   "cell_type": "markdown",
   "metadata": {},
   "source": [
    "**Observations**: \n",
    "- Red tends to have lower residual sugars than white. \n",
    "- Citric acid tends to be around same value for both, some higher values in the whites"
   ]
  },
  {
   "cell_type": "code",
   "execution_count": 42,
   "metadata": {
    "ExecuteTime": {
     "end_time": "2019-04-26T17:18:25.064719Z",
     "start_time": "2019-04-26T17:18:24.589502Z"
    }
   },
   "outputs": [
    {
     "data": {
      "image/png": "[encoded data removed]",
      "text/plain": [
       "<Figure size 413.25x360 with 1 Axes>"
      ]
     },
     "metadata": {
      "needs_background": "light"
     },
     "output_type": "display_data"
    }
   ],
   "source": [
    "# Fixed acidity vs Volatile activity\n",
    "sns.pairplot(x_vars=[\"volatile_acidity\"], y_vars=[\"fixed_acidity\"], data=wine, hue=\"predictor\", size=5);"
   ]
  },
  {
   "cell_type": "markdown",
   "metadata": {},
   "source": [
    "**Observations**:\n",
    "- White tends to have lower fixed and volatile acidity\n",
    "- No clear divide - more clusters\n",
    "\n",
    "**Summary:**  \n",
    "White: Higher Residual Sugar, Lower total & free sulphur dioxide, Lower fixed & volatile acidity"
   ]
  },
  {
   "cell_type": "markdown",
   "metadata": {},
   "source": [
    "## Split Data"
   ]
  },
  {
   "cell_type": "markdown",
   "metadata": {},
   "source": [
    "Split into 80% Training Data and 20% hold out data to test once models are tuned"
   ]
  },
  {
   "cell_type": "code",
   "execution_count": 43,
   "metadata": {
    "ExecuteTime": {
     "end_time": "2019-04-26T17:18:25.483964Z",
     "start_time": "2019-04-26T17:18:25.480858Z"
    }
   },
   "outputs": [],
   "source": [
    "# initialize random state to be used throughout for consistency\n",
    "rs = 14"
   ]
  },
  {
   "cell_type": "code",
   "execution_count": 44,
   "metadata": {
    "ExecuteTime": {
     "end_time": "2019-04-26T17:18:25.917191Z",
     "start_time": "2019-04-26T17:18:25.906179Z"
    }
   },
   "outputs": [],
   "source": [
    "X = wine.drop('predictor', axis=1)\n",
    "y = wine['predictor']\n",
    "X_total_train, X_hold_out, y_total_train, y_hold_out = train_test_split(X, y, test_size=.20, random_state=rs)"
   ]
  },
  {
   "cell_type": "markdown",
   "metadata": {},
   "source": [
    "Check stratified sampling - to make sure there's the correct proprtion of red and white in the training sample"
   ]
  },
  {
   "cell_type": "code",
   "execution_count": 45,
   "metadata": {
    "ExecuteTime": {
     "end_time": "2019-04-26T17:18:26.367072Z",
     "start_time": "2019-04-26T17:18:26.359069Z"
    }
   },
   "outputs": [
    {
     "name": "stdout",
     "output_type": "stream",
     "text": [
      " White Wine Samples (Train): 75.56%\n",
      " Red Wine Samples (Train): 24.44%\n"
     ]
    }
   ],
   "source": [
    "print(f\" White Wine Samples (Train): {((y_total_train.value_counts()[0]/y_total_train.count())*100).round(2)}%\")\n",
    "print(f\" Red Wine Samples (Train): {((y_total_train.value_counts()[1]/y_total_train.count())*100).round(2)}%\")"
   ]
  },
  {
   "cell_type": "code",
   "execution_count": 46,
   "metadata": {
    "ExecuteTime": {
     "end_time": "2019-04-26T17:18:26.797069Z",
     "start_time": "2019-04-26T17:18:26.788441Z"
    }
   },
   "outputs": [
    {
     "name": "stdout",
     "output_type": "stream",
     "text": [
      " White Wine Samples (Hold out): 74.69%\n",
      " Red Wine Samples (Hold out): 25.31%\n"
     ]
    }
   ],
   "source": [
    "print(f\" White Wine Samples (Hold out): {((y_hold_out.value_counts()[0]/y_hold_out.count())*100).round(2)}%\")\n",
    "print(f\" Red Wine Samples (Hold out): {((y_hold_out.value_counts()[1]/y_hold_out.count())*100).round(2)}%\")"
   ]
  },
  {
   "cell_type": "markdown",
   "metadata": {},
   "source": [
    "Further split training data in 80% train and 20% validation"
   ]
  },
  {
   "cell_type": "code",
   "execution_count": 47,
   "metadata": {
    "ExecuteTime": {
     "end_time": "2019-04-26T17:18:27.225790Z",
     "start_time": "2019-04-26T17:18:27.219309Z"
    }
   },
   "outputs": [],
   "source": [
    "X_train, X_val, y_train, y_val = train_test_split(X_total_train, y_total_train, test_size=.20, random_state=rs)"
   ]
  },
  {
   "cell_type": "code",
   "execution_count": 48,
   "metadata": {
    "ExecuteTime": {
     "end_time": "2019-04-26T17:18:27.649219Z",
     "start_time": "2019-04-26T17:18:27.644972Z"
    },
    "scrolled": true
   },
   "outputs": [
    {
     "name": "stdout",
     "output_type": "stream",
     "text": [
      "Total Splits: \n",
      "\n",
      "Training Data:      4157 values, 63.98% of dataset\n",
      "Validation Data:    1040 values, 16.01% of dataset\n",
      "Hold Out Test Data: 1300 values, 20.01% of dataset\n"
     ]
    }
   ],
   "source": [
    "print(f\"\"\"Total Splits: \n",
    "\n",
    "Training Data:      {len(y_train)} values, {round(len(y_train)/len(wine)*100, 2)}% of dataset\n",
    "Validation Data:    {len(y_val)} values, {round((len(y_val)/len(wine))*100, 2)}% of dataset\n",
    "Hold Out Test Data: {len(y_hold_out)} values, {round((len(y_hold_out)/len(wine))*100, 2)}% of dataset\"\"\")"
   ]
  },
  {
   "cell_type": "markdown",
   "metadata": {},
   "source": [
    "## Modeling"
   ]
  },
  {
   "cell_type": "markdown",
   "metadata": {},
   "source": [
    "- Before modelling - want to initialise 3 empty lists to fill throughout.\n",
    "- ```model_name:``` recording the model \n",
    "- ```incorrect_predictions:``` number of incorrect predictions for each model. \n",
    "- ```list_of_incorrects:``` lists of incorrect predictions to assess whether there are consistently incorrect predictions\n",
    "- Then later assess the best models"
   ]
  },
  {
   "cell_type": "code",
   "execution_count": 49,
   "metadata": {
    "ExecuteTime": {
     "end_time": "2019-04-26T17:18:28.084827Z",
     "start_time": "2019-04-26T17:18:28.081574Z"
    }
   },
   "outputs": [],
   "source": [
    "model_name = []\n",
    "incorrect_predictions = []\n",
    "list_of_incorrects = []"
   ]
  },
  {
   "cell_type": "markdown",
   "metadata": {},
   "source": [
    "### Logistic Regression - Use all features\n",
    "- Using Log Reg as base model with all the features in the dataset. \n",
    "- Log Reg is simple to work from"
   ]
  },
  {
   "cell_type": "code",
   "execution_count": 50,
   "metadata": {
    "ExecuteTime": {
     "end_time": "2019-04-26T17:18:29.751558Z",
     "start_time": "2019-04-26T17:18:28.517542Z"
    }
   },
   "outputs": [],
   "source": [
    "# Log Reg on train and validation data\n",
    "lr = LogisticRegression(random_state=rs).fit(X_train, y_train)\n",
    "lr_predprob = lr.predict_proba(X_val)\n",
    "lr_pred = lr.predict(X_val)\n",
    "\n",
    "# Log Reg with Cross Validation\n",
    "lr_cv = LogisticRegressionCV(random_state=rs).fit(X_train, y_train)\n",
    "lr_cv_predprob = lr_cv.predict_proba(X_val)\n",
    "lr_cv_pred= lr_cv.predict(X_val)"
   ]
  },
  {
   "cell_type": "code",
   "execution_count": 51,
   "metadata": {
    "ExecuteTime": {
     "end_time": "2019-04-26T17:18:43.458558Z",
     "start_time": "2019-04-26T17:18:30.200584Z"
    }
   },
   "outputs": [
    {
     "data": {
      "text/plain": [
       "'Accuracy: 0.982 CV:0.988\\n    Precision: 0.979 CV:0.983\\n    Recall: 0.943 CV:0.969\\n    F1: 0.961 CV: 0.976'"
      ]
     },
     "execution_count": 51,
     "metadata": {},
     "output_type": "execute_result"
    }
   ],
   "source": [
    "# Check Error Metrics, ROC and Confusion Matrix\n",
    "log_reg_errors(y_val, lr_pred, X_train, y_train)"
   ]
  },
  {
   "cell_type": "code",
   "execution_count": 52,
   "metadata": {
    "ExecuteTime": {
     "end_time": "2019-04-26T17:18:44.197315Z",
     "start_time": "2019-04-26T17:18:43.947971Z"
    }
   },
   "outputs": [
    {
     "name": "stdout",
     "output_type": "stream",
     "text": [
      "ROC AUC score =  0.9930974978429679\n"
     ]
    },
    {
     "data": {
      "image/png": "[encoded data removed]",
      "text/plain": [
       "<Figure size 432x288 with 1 Axes>"
      ]
     },
     "metadata": {
      "needs_background": "light"
     },
     "output_type": "display_data"
    }
   ],
   "source": [
    "roc_auc(lr, \"Logistic Regression\", y_val, X_val)"
   ]
  },
  {
   "cell_type": "code",
   "execution_count": 53,
   "metadata": {
    "ExecuteTime": {
     "end_time": "2019-04-26T17:18:44.880769Z",
     "start_time": "2019-04-26T17:18:44.634915Z"
    }
   },
   "outputs": [
    {
     "name": "stdout",
     "output_type": "stream",
     "text": [
      "ROC AUC score =  0.9933987165021875\n"
     ]
    },
    {
     "data": {
      "image/png": "[encoded data removed]",
      "text/plain": [
       "<Figure size 432x288 with 1 Axes>"
      ]
     },
     "metadata": {
      "needs_background": "light"
     },
     "output_type": "display_data"
    }
   ],
   "source": [
    "roc_auc(lr_cv, \"Logistic Regression, Cross Validation\", y_val, X_val)"
   ]
  },
  {
   "cell_type": "code",
   "execution_count": 54,
   "metadata": {
    "ExecuteTime": {
     "end_time": "2019-04-26T17:18:45.520735Z",
     "start_time": "2019-04-26T17:18:45.318773Z"
    }
   },
   "outputs": [
    {
     "data": {
      "text/plain": [
       "<Figure size 720x504 with 0 Axes>"
      ]
     },
     "execution_count": 54,
     "metadata": {},
     "output_type": "execute_result"
    },
    {
     "data": {
      "image/png": "[encoded data removed]",
      "text/plain": [
       "<Figure size 432x288 with 2 Axes>"
      ]
     },
     "metadata": {
      "needs_background": "light"
     },
     "output_type": "display_data"
    },
    {
     "data": {
      "text/plain": [
       "<Figure size 720x504 with 0 Axes>"
      ]
     },
     "metadata": {},
     "output_type": "display_data"
    }
   ],
   "source": [
    "#Confusion matrix for whole training and val in training set\n",
    "lr_cm = confusion_matrix(y_val, lr_pred)\n",
    "print_confusion_matrix(lr_cm)"
   ]
  },
  {
   "cell_type": "markdown",
   "metadata": {},
   "source": [
    "**Observations**:\n",
    "- Error metrics, seem to be doing pretty well, use decision trees to find the best features that are used.\n",
    "- Only predicting 19/1040 incorrectly"
   ]
  },
  {
   "cell_type": "code",
   "execution_count": 59,
   "metadata": {
    "ExecuteTime": {
     "end_time": "2019-04-26T17:19:16.761941Z",
     "start_time": "2019-04-26T17:19:16.715299Z"
    }
   },
   "outputs": [],
   "source": [
    "append_to_lists(y_val, lr_pred, lr_predprob, \"Log Reg, all features\")"
   ]
  },
  {
   "cell_type": "markdown",
   "metadata": {},
   "source": [
    "### Decision Trees - All features\n",
    "- Run Decision Tree model to see if there's an improvement on classification and evaluate feature importances to tune models"
   ]
  },
  {
   "cell_type": "code",
   "execution_count": 60,
   "metadata": {
    "ExecuteTime": {
     "end_time": "2019-04-26T17:19:18.119634Z",
     "start_time": "2019-04-26T17:19:18.086248Z"
    }
   },
   "outputs": [],
   "source": [
    "dtc = tree.DecisionTreeClassifier(random_state=rs).fit(X_train, y_train)\n",
    "y_pred_dtc_prob = dtc.predict_proba(X_val)\n",
    "y_pred_dtc = dtc.predict(X_val)"
   ]
  },
  {
   "cell_type": "code",
   "execution_count": 61,
   "metadata": {
    "ExecuteTime": {
     "end_time": "2019-04-26T17:19:18.819765Z",
     "start_time": "2019-04-26T17:19:18.586582Z"
    }
   },
   "outputs": [
    {
     "name": "stdout",
     "output_type": "stream",
     "text": [
      "Decision Tree Av Accuracy: 0.983\n",
      "Decision Tree Av Precision: 0.968\n",
      "Decision Tree Av Recall: 0.963\n",
      "Decision Tree Av F1: 0.965\n"
     ]
    }
   ],
   "source": [
    "ModelErrors(dtc, X_train, y_train, 'Decision Tree')"
   ]
  },
  {
   "cell_type": "code",
   "execution_count": 62,
   "metadata": {
    "ExecuteTime": {
     "end_time": "2019-04-26T17:19:19.469159Z",
     "start_time": "2019-04-26T17:19:19.267693Z"
    }
   },
   "outputs": [
    {
     "name": "stdout",
     "output_type": "stream",
     "text": [
      "ROC AUC score =  0.9714276232826707\n"
     ]
    },
    {
     "data": {
      "image/png": "[encoded data removed]",
      "text/plain": [
       "<Figure size 432x288 with 1 Axes>"
      ]
     },
     "metadata": {
      "needs_background": "light"
     },
     "output_type": "display_data"
    }
   ],
   "source": [
    "roc_auc(dtc, \"Decision Tree\", y_val, X_val)"
   ]
  },
  {
   "cell_type": "code",
   "execution_count": 63,
   "metadata": {
    "ExecuteTime": {
     "end_time": "2019-04-26T17:19:20.111534Z",
     "start_time": "2019-04-26T17:19:19.909947Z"
    }
   },
   "outputs": [
    {
     "data": {
      "text/plain": [
       "<Figure size 720x504 with 0 Axes>"
      ]
     },
     "execution_count": 63,
     "metadata": {},
     "output_type": "execute_result"
    },
    {
     "data": {
      "image/png": "[encoded data removed]",
      "text/plain": [
       "<Figure size 432x288 with 2 Axes>"
      ]
     },
     "metadata": {
      "needs_background": "light"
     },
     "output_type": "display_data"
    },
    {
     "data": {
      "text/plain": [
       "<Figure size 720x504 with 0 Axes>"
      ]
     },
     "metadata": {},
     "output_type": "display_data"
    }
   ],
   "source": [
    "dtc_cm = confusion_matrix(y_val, y_pred_dtc)\n",
    "print_confusion_matrix(dtc_cm)"
   ]
  },
  {
   "cell_type": "markdown",
   "metadata": {},
   "source": [
    "**Observations:**\n",
    "- Number of white false predictions has increased by 5, however correctly predicts 3 more red correctly \n",
    "- ROC AUC still good, however not as good as Logistic Regression"
   ]
  },
  {
   "cell_type": "code",
   "execution_count": 64,
   "metadata": {
    "ExecuteTime": {
     "end_time": "2019-04-26T17:19:20.598853Z",
     "start_time": "2019-04-26T17:19:20.552778Z"
    }
   },
   "outputs": [],
   "source": [
    "append_to_lists(y_val, y_pred_dtc, y_pred_dtc_prob, \"Decision Tree, all features\")"
   ]
  },
  {
   "cell_type": "code",
   "execution_count": 65,
   "metadata": {
    "ExecuteTime": {
     "end_time": "2019-04-26T17:19:21.031201Z",
     "start_time": "2019-04-26T17:19:21.025098Z"
    }
   },
   "outputs": [],
   "source": [
    "# Get feature importance and create dictionary\n",
    "features = list(dtc.feature_importances_.round(3))\n",
    "column_names = list(wine.columns.drop('predictor'))\n",
    "\n",
    "# Sort dictionary so most important features appear first for clarity\n",
    "importance = dict(zip(column_names, features))\n",
    "sorted_importance = {k: v for k, v in sorted(importance.items(), key=lambda x: x[1], reverse=True)}"
   ]
  },
  {
   "cell_type": "code",
   "execution_count": 66,
   "metadata": {
    "ExecuteTime": {
     "end_time": "2019-04-26T17:19:21.481941Z",
     "start_time": "2019-04-26T17:19:21.477068Z"
    }
   },
   "outputs": [
    {
     "data": {
      "text/plain": [
       "{'total_sulfur_dioxide': 0.68,\n",
       " 'chlorides': 0.2,\n",
       " 'fixed_acidity': 0.043,\n",
       " 'sulphates': 0.024,\n",
       " 'volatile_acidity': 0.018,\n",
       " 'density': 0.014,\n",
       " 'free_percentage': 0.005,\n",
       " 'residual_sugar': 0.004,\n",
       " 'alcohol': 0.004,\n",
       " 'pH': 0.003,\n",
       " 'free_sulfur_dioxide': 0.002,\n",
       " 'citric_acid': 0.001}"
      ]
     },
     "execution_count": 66,
     "metadata": {},
     "output_type": "execute_result"
    }
   ],
   "source": [
    "sorted_importance"
   ]
  },
  {
   "cell_type": "markdown",
   "metadata": {},
   "source": [
    "**Observations:**\n",
    "- Two most important features are total_sulphur_dioxide and chlorides\n",
    "- Least important features: citric_acid and free_sulphur_dioxide"
   ]
  },
  {
   "cell_type": "code",
   "execution_count": 67,
   "metadata": {
    "ExecuteTime": {
     "end_time": "2019-04-26T17:19:24.371917Z",
     "start_time": "2019-04-26T17:19:23.901560Z"
    }
   },
   "outputs": [
    {
     "data": {
      "image/png": "[encoded data removed]",
      "text/plain": [
       "<Figure size 629.25x576 with 1 Axes>"
      ]
     },
     "metadata": {
      "needs_background": "light"
     },
     "output_type": "display_data"
    }
   ],
   "source": [
    "# plot against each other to assess correlation with wine sample colour\n",
    "sns.pairplot(x_vars=[\"total_sulfur_dioxide\"], y_vars=[\"chlorides\"], data=wine, hue=\"predictor\", markers=[\"o\", \"s\"], size=8);"
   ]
  },
  {
   "cell_type": "markdown",
   "metadata": {},
   "source": [
    "**Observations:**\n",
    "- Red (1) tend to have less sulphur dioxide and higher chlorides \n",
    "- White (0) Higher range of total sulphur dioxides and lower chlorides\n",
    "- Seems to be a fair distinction between red and white in just these features"
   ]
  },
  {
   "cell_type": "markdown",
   "metadata": {},
   "source": [
    "### Logistic Regression with 2 most important features\n",
    "- Run Logistic Regression to see if the model performs well with just top features as they seem highly correlated with wine colour"
   ]
  },
  {
   "cell_type": "code",
   "execution_count": 68,
   "metadata": {
    "ExecuteTime": {
     "end_time": "2019-04-26T17:20:38.473032Z",
     "start_time": "2019-04-26T17:20:38.462743Z"
    }
   },
   "outputs": [],
   "source": [
    "# Re-define data & split - to avoid overriding of other variables\n",
    "X_2 = wine[['total_sulfur_dioxide', 'chlorides']]\n",
    "y_2 = wine['predictor']\n",
    "\n",
    "X_train_2, X_hold_out_2, y_train_2, y_hold_out_2 = train_test_split(X_2, y_2, test_size=.20, random_state=rs)\n",
    "X_train_2, X_val_2, y_train_2, y_val_2 = train_test_split(X_train_2, y_train_2, test_size=.20, random_state=rs)"
   ]
  },
  {
   "cell_type": "code",
   "execution_count": 70,
   "metadata": {
    "ExecuteTime": {
     "end_time": "2019-04-26T17:20:52.330072Z",
     "start_time": "2019-04-26T17:20:52.046722Z"
    }
   },
   "outputs": [],
   "source": [
    "# Logistic Regression and Cross Val Scores\n",
    "lr2 = LogisticRegression(random_state=rs).fit(X_train_2, y_train_2)\n",
    "lr_predprob2 = lr2.predict_proba(X_val_2)\n",
    "lr_pred2 = lr2.predict(X_val_2)\n",
    "\n",
    "lr_cv_2 = LogisticRegressionCV(random_state=rs).fit(X_train_2, y_train_2)\n",
    "lr_cv_predprob_2 = lr_cv_2.predict_proba(X_val_2)\n",
    "lr_cv_pred_2 = lr_cv_2.predict(X_val_2)"
   ]
  },
  {
   "cell_type": "code",
   "execution_count": 71,
   "metadata": {
    "ExecuteTime": {
     "end_time": "2019-04-26T17:21:00.584645Z",
     "start_time": "2019-04-26T17:20:57.422369Z"
    }
   },
   "outputs": [
    {
     "data": {
      "text/plain": [
       "'Accuracy: 0.932 CV:0.952\\n    Precision: 0.904 CV:0.922\\n    Recall: 0.798 CV:0.882\\n    F1: 0.847 CV: 0.901'"
      ]
     },
     "execution_count": 71,
     "metadata": {},
     "output_type": "execute_result"
    }
   ],
   "source": [
    "# Check Error Metrics, ROC and Confusion Matrix\n",
    "log_reg_errors(y_val_2, lr_pred2, X_train_2, y_train_2)"
   ]
  },
  {
   "cell_type": "code",
   "execution_count": 72,
   "metadata": {
    "ExecuteTime": {
     "end_time": "2019-04-26T17:21:03.597720Z",
     "start_time": "2019-04-26T17:21:03.389799Z"
    }
   },
   "outputs": [
    {
     "name": "stdout",
     "output_type": "stream",
     "text": [
      "ROC AUC score =  0.9742560154387326\n"
     ]
    },
    {
     "data": {
      "image/png": "[encoded data removed]",
      "text/plain": [
       "<Figure size 432x288 with 1 Axes>"
      ]
     },
     "metadata": {
      "needs_background": "light"
     },
     "output_type": "display_data"
    }
   ],
   "source": [
    "roc_auc(lr_cv_2, \"Logistic Regression\", y_val_2, X_val_2)"
   ]
  },
  {
   "cell_type": "code",
   "execution_count": 73,
   "metadata": {
    "ExecuteTime": {
     "end_time": "2019-04-26T17:21:09.424956Z",
     "start_time": "2019-04-26T17:21:09.220439Z"
    }
   },
   "outputs": [
    {
     "data": {
      "text/plain": [
       "<Figure size 720x504 with 0 Axes>"
      ]
     },
     "execution_count": 73,
     "metadata": {},
     "output_type": "execute_result"
    },
    {
     "data": {
      "image/png": "[encoded data removed]",
      "text/plain": [
       "<Figure size 432x288 with 2 Axes>"
      ]
     },
     "metadata": {
      "needs_background": "light"
     },
     "output_type": "display_data"
    },
    {
     "data": {
      "text/plain": [
       "<Figure size 720x504 with 0 Axes>"
      ]
     },
     "metadata": {},
     "output_type": "display_data"
    }
   ],
   "source": [
    "lr2_cm = confusion_matrix(y_val_2, lr_pred2)\n",
    "print_confusion_matrix(lr2_cm)"
   ]
  },
  {
   "cell_type": "markdown",
   "metadata": {},
   "source": [
    "**Observations:**\n",
    "- Error metrics are lower\n",
    "- Incorrectly predicting more wines - suggests that the other features are also important in prediction.\n",
    "- Therefore, going to try more features"
   ]
  },
  {
   "cell_type": "code",
   "execution_count": 75,
   "metadata": {
    "ExecuteTime": {
     "end_time": "2019-04-26T17:27:33.296916Z",
     "start_time": "2019-04-26T17:27:33.252968Z"
    }
   },
   "outputs": [],
   "source": [
    "append_to_lists(y_val_2, lr_pred2, lr_predprob2, \"Logistic Regression, Top 2 features\")"
   ]
  },
  {
   "cell_type": "markdown",
   "metadata": {},
   "source": [
    "### Logistic Regression with more features (importance >1%)\n",
    "- Going to try with features that have greater than 1% importance from original decision trees "
   ]
  },
  {
   "cell_type": "code",
   "execution_count": 76,
   "metadata": {
    "ExecuteTime": {
     "end_time": "2019-04-26T17:28:36.362952Z",
     "start_time": "2019-04-26T17:28:36.358484Z"
    }
   },
   "outputs": [
    {
     "name": "stdout",
     "output_type": "stream",
     "text": [
      "Most important features:\n",
      "['fixed_acidity', 'volatile_acidity', 'chlorides', 'total_sulfur_dioxide', 'density', 'sulphates']\n"
     ]
    }
   ],
   "source": [
    "# Assess importance and return features with 1%+ importance\n",
    "most_important = [k for k,v in importance.items() if v >= 0.01]\n",
    "print(f\"Most important features:\\n{most_important}\")"
   ]
  },
  {
   "cell_type": "code",
   "execution_count": 77,
   "metadata": {
    "ExecuteTime": {
     "end_time": "2019-04-26T17:28:58.746597Z",
     "start_time": "2019-04-26T17:28:58.735731Z"
    }
   },
   "outputs": [],
   "source": [
    "# Re-define data \n",
    "X_3 = wine[most_important]\n",
    "y_3 = wine['predictor']\n",
    "\n",
    "X_train_3, X_hold_out_3, y_train_3, y_hold_out_3 = train_test_split(X_3, y_3, test_size=.20, random_state=rs)\n",
    "X_train_3, X_val_3, y_train_3, y_val_3 = train_test_split(X_train_3, y_train_3, test_size=.20, random_state=rs)"
   ]
  },
  {
   "cell_type": "code",
   "execution_count": 78,
   "metadata": {
    "ExecuteTime": {
     "end_time": "2019-04-26T17:29:10.085032Z",
     "start_time": "2019-04-26T17:29:09.401423Z"
    }
   },
   "outputs": [],
   "source": [
    "# Logistic Regression and Cross Validation\n",
    "lr3 = LogisticRegression(random_state=14).fit(X_train_3, y_train_3)\n",
    "lr_predprob3 = lr3.predict_proba(X_val_3)\n",
    "lr_pred3 = lr3.predict(X_val_3)\n",
    "\n",
    "lr_cv_3 = LogisticRegressionCV(random_state=14).fit(X_train_3, y_train_3)\n",
    "lr_cv_predprob_3 = lr_cv_3.predict_proba(X_val_3)\n",
    "lr_cv_pred_3 = lr_cv_3.predict(X_val_3)"
   ]
  },
  {
   "cell_type": "code",
   "execution_count": 79,
   "metadata": {
    "ExecuteTime": {
     "end_time": "2019-04-26T17:29:24.138136Z",
     "start_time": "2019-04-26T17:29:14.742941Z"
    }
   },
   "outputs": [
    {
     "data": {
      "text/plain": [
       "'Accuracy: 0.976 CV:0.98\\n    Precision: 0.962 CV:0.96\\n    Recall: 0.935 CV:0.96\\n    F1: 0.949 CV: 0.96'"
      ]
     },
     "execution_count": 79,
     "metadata": {},
     "output_type": "execute_result"
    }
   ],
   "source": [
    "# Check Error Metrics, ROC and Confusion Matrix\n",
    "log_reg_errors(y_val_3, lr_pred3, X_train_3, y_train_3)"
   ]
  },
  {
   "cell_type": "code",
   "execution_count": 80,
   "metadata": {
    "ExecuteTime": {
     "end_time": "2019-04-26T17:29:25.164359Z",
     "start_time": "2019-04-26T17:29:24.957809Z"
    }
   },
   "outputs": [
    {
     "name": "stdout",
     "output_type": "stream",
     "text": [
      "ROC AUC score =  0.9896666683684671\n"
     ]
    },
    {
     "data": {
      "image/png": "[encoded data removed]",
      "text/plain": [
       "<Figure size 432x288 with 1 Axes>"
      ]
     },
     "metadata": {
      "needs_background": "light"
     },
     "output_type": "display_data"
    }
   ],
   "source": [
    "roc_auc(lr3, \"Logistic Regression\", y_val_3, X_val_3)"
   ]
  },
  {
   "cell_type": "code",
   "execution_count": 81,
   "metadata": {
    "ExecuteTime": {
     "end_time": "2019-04-26T17:29:30.005129Z",
     "start_time": "2019-04-26T17:29:29.790716Z"
    }
   },
   "outputs": [
    {
     "data": {
      "text/plain": [
       "<Figure size 720x504 with 0 Axes>"
      ]
     },
     "execution_count": 81,
     "metadata": {},
     "output_type": "execute_result"
    },
    {
     "data": {
      "image/png": "[encoded data removed]",
      "text/plain": [
       "<Figure size 432x288 with 2 Axes>"
      ]
     },
     "metadata": {
      "needs_background": "light"
     },
     "output_type": "display_data"
    },
    {
     "data": {
      "text/plain": [
       "<Figure size 720x504 with 0 Axes>"
      ]
     },
     "metadata": {},
     "output_type": "display_data"
    }
   ],
   "source": [
    "#Confusion matrix for whole training and val in training set\n",
    "lr_cm_3 = confusion_matrix(y_val_3, lr_pred3)\n",
    "print_confusion_matrix(lr_cm_3)"
   ]
  },
  {
   "cell_type": "markdown",
   "metadata": {},
   "source": [
    "**Observations**:\n",
    "- Still not predicting as many as using all of the features\n",
    "- Try including more features but not all"
   ]
  },
  {
   "cell_type": "code",
   "execution_count": 82,
   "metadata": {
    "ExecuteTime": {
     "end_time": "2019-04-26T17:30:11.483712Z",
     "start_time": "2019-04-26T17:30:11.439557Z"
    }
   },
   "outputs": [],
   "source": [
    "append_to_lists(y_val_3, lr_pred3, lr_predprob3, \"Logistic Regression, Top 6 features\")"
   ]
  },
  {
   "cell_type": "markdown",
   "metadata": {},
   "source": [
    "### Logistic Regression with more features (importance >0.1%)\n",
    "- Include some more features - those with higher than 0.1% importance"
   ]
  },
  {
   "cell_type": "code",
   "execution_count": 83,
   "metadata": {
    "ExecuteTime": {
     "end_time": "2019-04-26T17:30:53.419422Z",
     "start_time": "2019-04-26T17:30:53.415093Z"
    }
   },
   "outputs": [
    {
     "name": "stdout",
     "output_type": "stream",
     "text": [
      "Second Most important features:\n",
      "['fixed_acidity', 'volatile_acidity', 'residual_sugar', 'chlorides', 'free_sulfur_dioxide', 'total_sulfur_dioxide', 'density', 'pH', 'sulphates', 'alcohol', 'free_percentage']\n"
     ]
    }
   ],
   "source": [
    "second_most_important = [k for k,v in importance.items() if v > 0.001]\n",
    "print(f\"Second Most important features:\\n{second_most_important}\")"
   ]
  },
  {
   "cell_type": "code",
   "execution_count": 84,
   "metadata": {
    "ExecuteTime": {
     "end_time": "2019-04-26T17:31:05.563020Z",
     "start_time": "2019-04-26T17:31:05.550237Z"
    }
   },
   "outputs": [],
   "source": [
    "# Re-define data \n",
    "X_4 = wine[second_most_important]\n",
    "y_4 = wine['predictor']\n",
    "\n",
    "X_train_4, X_hold_out_4, y_train_4, y_hold_out_4 = train_test_split(X_4, y_4, test_size=.20, random_state=rs)\n",
    "X_train_4, X_val_4, y_train_4, y_val_4 = train_test_split(X_train_4, y_train_4, test_size=.20, random_state=rs)"
   ]
  },
  {
   "cell_type": "code",
   "execution_count": 85,
   "metadata": {
    "ExecuteTime": {
     "end_time": "2019-04-26T17:31:16.432671Z",
     "start_time": "2019-04-26T17:31:15.110222Z"
    }
   },
   "outputs": [],
   "source": [
    "# Logistic Regression and Cross Validation\n",
    "lr4 = LogisticRegression(random_state=rs).fit(X_train_4, y_train_4)\n",
    "lr_predprob4 = lr4.predict_proba(X_val_4)\n",
    "lr_pred4 = lr4.predict(X_val_4)\n",
    "\n",
    "lr_cv_4 = LogisticRegressionCV(random_state=rs).fit(X_train_4, y_train_4)\n",
    "lr_cv_predprob_4 = lr_cv_4.predict_proba(X_val_4)\n",
    "lr_cv_pred_4 = lr_cv_4.predict(X_val_4)"
   ]
  },
  {
   "cell_type": "code",
   "execution_count": 86,
   "metadata": {
    "ExecuteTime": {
     "end_time": "2019-04-26T17:31:34.476766Z",
     "start_time": "2019-04-26T17:31:20.414523Z"
    }
   },
   "outputs": [
    {
     "data": {
      "text/plain": [
       "'Accuracy: 0.983 CV:0.986\\n    Precision: 0.979 CV:0.979\\n    Recall: 0.947 CV:0.965\\n    F1: 0.963 CV: 0.972'"
      ]
     },
     "execution_count": 86,
     "metadata": {},
     "output_type": "execute_result"
    }
   ],
   "source": [
    "# Check Error Metrics, ROC and Confusion Matrix\n",
    "log_reg_errors(y_val_4, lr_pred4, X_train_4, y_train_4)"
   ]
  },
  {
   "cell_type": "code",
   "execution_count": 87,
   "metadata": {
    "ExecuteTime": {
     "end_time": "2019-04-26T17:31:35.764872Z",
     "start_time": "2019-04-26T17:31:35.551914Z"
    }
   },
   "outputs": [
    {
     "name": "stdout",
     "output_type": "stream",
     "text": [
      "ROC AUC score =  0.993082181639957\n"
     ]
    },
    {
     "data": {
      "image/png": "[encoded data removed]",
      "text/plain": [
       "<Figure size 432x288 with 1 Axes>"
      ]
     },
     "metadata": {
      "needs_background": "light"
     },
     "output_type": "display_data"
    }
   ],
   "source": [
    "roc_auc(lr4, \"Logistic Regression\", y_val_4, X_val_4)"
   ]
  },
  {
   "cell_type": "code",
   "execution_count": 88,
   "metadata": {
    "ExecuteTime": {
     "end_time": "2019-04-26T17:31:36.998002Z",
     "start_time": "2019-04-26T17:31:36.783122Z"
    }
   },
   "outputs": [
    {
     "data": {
      "text/plain": [
       "<Figure size 720x504 with 0 Axes>"
      ]
     },
     "execution_count": 88,
     "metadata": {},
     "output_type": "execute_result"
    },
    {
     "data": {
      "image/png": "[encoded data removed]",
      "text/plain": [
       "<Figure size 432x288 with 2 Axes>"
      ]
     },
     "metadata": {
      "needs_background": "light"
     },
     "output_type": "display_data"
    },
    {
     "data": {
      "text/plain": [
       "<Figure size 720x504 with 0 Axes>"
      ]
     },
     "metadata": {},
     "output_type": "display_data"
    }
   ],
   "source": [
    "#Confusion matrix for whole training and val in training set\n",
    "lr_cm_4 = confusion_matrix(y_val_4, lr_pred4)\n",
    "print_confusion_matrix(lr_cm_4)"
   ]
  },
  {
   "cell_type": "code",
   "execution_count": 89,
   "metadata": {
    "ExecuteTime": {
     "end_time": "2019-04-26T17:31:59.355043Z",
     "start_time": "2019-04-26T17:31:59.310060Z"
    }
   },
   "outputs": [],
   "source": [
    "append_to_lists(y_val_4, lr_pred4, lr_predprob4, \"Logistic Regression, Top 10 features\")"
   ]
  },
  {
   "cell_type": "markdown",
   "metadata": {},
   "source": [
    "### Logistic Regression - Remove most dominant features\n",
    "- As these have a really strong correlation with the wine colour, wanted to remove them from the dataset to evaluate what effect this may have on the model."
   ]
  },
  {
   "cell_type": "code",
   "execution_count": 90,
   "metadata": {
    "ExecuteTime": {
     "end_time": "2019-04-26T17:33:12.729119Z",
     "start_time": "2019-04-26T17:33:12.718072Z"
    }
   },
   "outputs": [],
   "source": [
    "# Re-define data \n",
    "X_5 = wine.drop(['total_sulfur_dioxide', 'chlorides', 'predictor'], axis=1)\n",
    "y_5 = wine['predictor']\n",
    "\n",
    "X_train_5, X_hold_out_5, y_train_5, y_hold_out_5 = train_test_split(X_5, y_5, test_size=.20, random_state=rs)\n",
    "X_train_5, X_val_5, y_train_5, y_val_5 = train_test_split(X_train_5, y_train_5, test_size=.20, random_state=rs)"
   ]
  },
  {
   "cell_type": "code",
   "execution_count": 92,
   "metadata": {
    "ExecuteTime": {
     "end_time": "2019-04-26T17:33:22.659416Z",
     "start_time": "2019-04-26T17:33:21.517172Z"
    }
   },
   "outputs": [],
   "source": [
    "# Logistic Regression and Cross Validation\n",
    "lr_cv_5 = LogisticRegressionCV(random_state=rs).fit(X_train_5, y_train_5)\n",
    "lr_cv_predprob_5 = lr_cv_5.predict_proba(X_val_5)\n",
    "lr_cv_pred_5 = lr_cv_5.predict(X_val_5)\n",
    "\n",
    "lr5 = LogisticRegression(random_state=rs).fit(X_train_5, y_train_5)\n",
    "lr_predprob5 = lr5.predict_proba(X_val_5)\n",
    "lr_pred5 = lr5.predict(X_val_5)"
   ]
  },
  {
   "cell_type": "code",
   "execution_count": 93,
   "metadata": {
    "ExecuteTime": {
     "end_time": "2019-04-26T17:33:39.505717Z",
     "start_time": "2019-04-26T17:33:27.069098Z"
    }
   },
   "outputs": [
    {
     "data": {
      "text/plain": [
       "'Accuracy: 0.982 CV:0.986\\n    Precision: 0.983 CV:0.978\\n    Recall: 0.939 CV:0.965\\n    F1: 0.961 CV: 0.971'"
      ]
     },
     "execution_count": 93,
     "metadata": {},
     "output_type": "execute_result"
    }
   ],
   "source": [
    "# Check Error Metrics, ROC and Confusion Matrix\n",
    "log_reg_errors(y_val_5, lr_pred5, X_train_5, y_train_5)"
   ]
  },
  {
   "cell_type": "code",
   "execution_count": 94,
   "metadata": {
    "ExecuteTime": {
     "end_time": "2019-04-26T17:33:41.030525Z",
     "start_time": "2019-04-26T17:33:40.817646Z"
    }
   },
   "outputs": [
    {
     "name": "stdout",
     "output_type": "stream",
     "text": [
      "ROC AUC score =  0.992418479509473\n"
     ]
    },
    {
     "data": {
      "image/png": "[encoded data removed]",
      "text/plain": [
       "<Figure size 432x288 with 1 Axes>"
      ]
     },
     "metadata": {
      "needs_background": "light"
     },
     "output_type": "display_data"
    }
   ],
   "source": [
    "roc_auc(lr_cv_5, \"Logistic Regression\", y_val_5, X_val_5)"
   ]
  },
  {
   "cell_type": "code",
   "execution_count": 95,
   "metadata": {
    "ExecuteTime": {
     "end_time": "2019-04-26T17:33:42.473514Z",
     "start_time": "2019-04-26T17:33:42.254970Z"
    }
   },
   "outputs": [
    {
     "data": {
      "text/plain": [
       "<Figure size 720x504 with 0 Axes>"
      ]
     },
     "execution_count": 95,
     "metadata": {},
     "output_type": "execute_result"
    },
    {
     "data": {
      "image/png": "[encoded data removed]",
      "text/plain": [
       "<Figure size 432x288 with 2 Axes>"
      ]
     },
     "metadata": {
      "needs_background": "light"
     },
     "output_type": "display_data"
    },
    {
     "data": {
      "text/plain": [
       "<Figure size 720x504 with 0 Axes>"
      ]
     },
     "metadata": {},
     "output_type": "display_data"
    }
   ],
   "source": [
    "lr5_cm = confusion_matrix(y_val_5, lr_pred5)\n",
    "print_confusion_matrix(lr5_cm)"
   ]
  },
  {
   "cell_type": "markdown",
   "metadata": {},
   "source": [
    "**Observations:**\n",
    "- Still performs really well with 98% accuracy and 98% precision\n",
    "- Other features are still telling of the wine colour \n",
    "- Fewer misclassifications in of red samples"
   ]
  },
  {
   "cell_type": "code",
   "execution_count": 98,
   "metadata": {
    "ExecuteTime": {
     "end_time": "2019-04-26T17:37:00.264710Z",
     "start_time": "2019-04-26T17:37:00.220555Z"
    }
   },
   "outputs": [],
   "source": [
    "append_to_lists(y_val_5, lr_pred5, lr_predprob5, 'Log Reg - no important features')"
   ]
  },
  {
   "cell_type": "markdown",
   "metadata": {},
   "source": [
    "### KNN - using all features\n",
    "- Trying a K Nearest neighbour algorithm on the dataset, will try a variety of number of neighbours to see which performs best based on accuracy"
   ]
  },
  {
   "cell_type": "code",
   "execution_count": 99,
   "metadata": {
    "ExecuteTime": {
     "end_time": "2019-04-26T17:40:14.463575Z",
     "start_time": "2019-04-26T17:40:14.451650Z"
    }
   },
   "outputs": [],
   "source": [
    "# Re define data\n",
    "Xk = wine.drop('predictor', axis=1)\n",
    "yk = wine['predictor']\n",
    "\n",
    "Xk_train, Xk_hold_out, yk_train, yk_hold_out = train_test_split(Xk, yk, test_size=.20, random_state=rs)\n",
    "Xk_train, Xk_val, yk_train, yk_val = train_test_split(Xk_train, yk_train, test_size=.20, random_state=rs)"
   ]
  },
  {
   "cell_type": "code",
   "execution_count": 100,
   "metadata": {
    "ExecuteTime": {
     "end_time": "2019-04-26T17:40:24.090654Z",
     "start_time": "2019-04-26T17:40:23.394724Z"
    }
   },
   "outputs": [
    {
     "name": "stdout",
     "output_type": "stream",
     "text": [
      "K with highest accuracy score = [1]\n"
     ]
    }
   ],
   "source": [
    "# Find best K\n",
    "k = list(range(1, 12))\n",
    "scores = []\n",
    "\n",
    "for i in k:\n",
    "    KNN = KNeighborsClassifier(n_neighbors=i)\n",
    "    KNN.fit(Xk_train, yk_train)\n",
    "    y_pred_knn = KNN.predict(Xk_val)\n",
    "    score = f1_score(yk_val, y_pred_knn)\n",
    "    scores.append(score)\n",
    "\n",
    "total_scores = dict(zip(k, scores)) # Create dictionary of scores and number of neighbours \n",
    "best_k = ([k for k,v in total_scores.items() if v == max(scores)]) # find k with highest accuracy\n",
    "\n",
    "print(f\"K with highest accuracy score = {best_k}\")"
   ]
  },
  {
   "cell_type": "code",
   "execution_count": 101,
   "metadata": {
    "ExecuteTime": {
     "end_time": "2019-04-26T17:55:08.684490Z",
     "start_time": "2019-04-26T17:55:08.596729Z"
    }
   },
   "outputs": [],
   "source": [
    "KNN = KNeighborsClassifier(n_neighbors=best_k[0])\n",
    "KNN.fit(Xk_train, yk_train)\n",
    "y_pred_knn = KNN.predict(Xk_val)\n",
    "y_predprob_knn = KNN.predict_proba(Xk_val)"
   ]
  },
  {
   "cell_type": "code",
   "execution_count": 102,
   "metadata": {
    "ExecuteTime": {
     "end_time": "2019-04-26T17:56:23.918185Z",
     "start_time": "2019-04-26T17:56:23.008337Z"
    }
   },
   "outputs": [
    {
     "name": "stdout",
     "output_type": "stream",
     "text": [
      "K Nearest Neighbour Av Accuracy: 0.934\n",
      "K Nearest Neighbour Av Precision: 0.864\n",
      "K Nearest Neighbour Av Recall: 0.867\n",
      "K Nearest Neighbour Av F1: 0.866\n"
     ]
    }
   ],
   "source": [
    "ModelErrors(KNN, Xk_train, yk_train, 'K Nearest Neighbour')"
   ]
  },
  {
   "cell_type": "code",
   "execution_count": 103,
   "metadata": {
    "ExecuteTime": {
     "end_time": "2019-04-26T17:56:33.536120Z",
     "start_time": "2019-04-26T17:56:33.303150Z"
    }
   },
   "outputs": [
    {
     "name": "stdout",
     "output_type": "stream",
     "text": [
      "ROC AUC score =  0.9155439038959314\n"
     ]
    },
    {
     "data": {
      "image/png": "[encoded data removed]",
      "text/plain": [
       "<Figure size 432x288 with 1 Axes>"
      ]
     },
     "metadata": {
      "needs_background": "light"
     },
     "output_type": "display_data"
    }
   ],
   "source": [
    "roc_auc(KNN, \"KNN\", yk_val, Xk_val)"
   ]
  },
  {
   "cell_type": "code",
   "execution_count": 104,
   "metadata": {
    "ExecuteTime": {
     "end_time": "2019-04-26T17:56:39.860199Z",
     "start_time": "2019-04-26T17:56:39.647221Z"
    }
   },
   "outputs": [
    {
     "data": {
      "text/plain": [
       "<Figure size 720x504 with 0 Axes>"
      ]
     },
     "execution_count": 104,
     "metadata": {},
     "output_type": "execute_result"
    },
    {
     "data": {
      "image/png": "[encoded data removed]",
      "text/plain": [
       "<Figure size 432x288 with 2 Axes>"
      ]
     },
     "metadata": {
      "needs_background": "light"
     },
     "output_type": "display_data"
    },
    {
     "data": {
      "text/plain": [
       "<Figure size 720x504 with 0 Axes>"
      ]
     },
     "metadata": {},
     "output_type": "display_data"
    }
   ],
   "source": [
    "knn_cm = confusion_matrix(yk_val, y_pred_knn)\n",
    "print_confusion_matrix(knn_cm)"
   ]
  },
  {
   "cell_type": "markdown",
   "metadata": {},
   "source": [
    "**Observations:**\n",
    "- Incorrectly predicting over 60 wines\n",
    "- Lower recall and F1 Scores"
   ]
  },
  {
   "cell_type": "code",
   "execution_count": 105,
   "metadata": {
    "ExecuteTime": {
     "end_time": "2019-04-26T17:57:30.611545Z",
     "start_time": "2019-04-26T17:57:30.559903Z"
    }
   },
   "outputs": [],
   "source": [
    "append_to_lists(yk_val, y_pred_knn, y_predprob_knn, \"K Nearest Neighbours, all features\")"
   ]
  },
  {
   "cell_type": "markdown",
   "metadata": {},
   "source": [
    "### Random Forest - All features\n",
    "- Random Forests have the tendency to overfit and have a lot of parameters to tune"
   ]
  },
  {
   "cell_type": "code",
   "execution_count": 106,
   "metadata": {
    "ExecuteTime": {
     "end_time": "2019-04-26T17:58:52.393409Z",
     "start_time": "2019-04-26T17:58:52.383711Z"
    }
   },
   "outputs": [],
   "source": [
    "Xrf = wine.drop('predictor', axis=1)\n",
    "yrf = wine['predictor']\n",
    "\n",
    "Xrf_train, Xrf_hold_out, yrf_train, yrf_hold_out = train_test_split(Xrf, yrf, test_size=.20, random_state=rs)"
   ]
  },
  {
   "cell_type": "code",
   "execution_count": 107,
   "metadata": {
    "ExecuteTime": {
     "end_time": "2019-04-26T17:59:00.471008Z",
     "start_time": "2019-04-26T17:59:00.464436Z"
    }
   },
   "outputs": [],
   "source": [
    "Xrf_train, Xrf_val, yrf_train, yrf_val = train_test_split(Xrf_train, yrf_train, test_size=.20, random_state=rs)"
   ]
  },
  {
   "cell_type": "code",
   "execution_count": 112,
   "metadata": {
    "ExecuteTime": {
     "end_time": "2019-04-26T18:01:39.418119Z",
     "start_time": "2019-04-26T18:01:39.352165Z"
    }
   },
   "outputs": [],
   "source": [
    "RFC = RandomForestClassifier(n_estimators=20, max_depth=3, random_state=rs) #random parameters - can use gridsearch or randomsearch\n",
    "RFC.fit(Xrf_train, yrf_train)\n",
    "y_pred_rfc_proba = RFC.predict_proba(Xrf_val)\n",
    "y_pred_rfc = RFC.predict(Xrf_val)"
   ]
  },
  {
   "cell_type": "code",
   "execution_count": 117,
   "metadata": {
    "ExecuteTime": {
     "end_time": "2019-04-26T18:04:28.338407Z",
     "start_time": "2019-04-26T18:04:27.741094Z"
    }
   },
   "outputs": [
    {
     "name": "stdout",
     "output_type": "stream",
     "text": [
      "Random Forest Av Accuracy: 0.986\n",
      "Random Forest Av Precision: 0.989\n",
      "Random Forest Av Recall: 0.955\n",
      "Random Forest Av F1: 0.972\n"
     ]
    }
   ],
   "source": [
    "ModelErrors(RFC, Xrf_train, yrf_train, 'Random Forest')"
   ]
  },
  {
   "cell_type": "code",
   "execution_count": 113,
   "metadata": {
    "ExecuteTime": {
     "end_time": "2019-04-26T18:01:41.395661Z",
     "start_time": "2019-04-26T18:01:41.178293Z"
    }
   },
   "outputs": [
    {
     "name": "stdout",
     "output_type": "stream",
     "text": [
      "ROC AUC score =  0.9953848653902175\n"
     ]
    },
    {
     "data": {
      "image/png": "[encoded data removed]",
      "text/plain": [
       "<Figure size 432x288 with 1 Axes>"
      ]
     },
     "metadata": {
      "needs_background": "light"
     },
     "output_type": "display_data"
    }
   ],
   "source": [
    "roc_auc(RFC, \"RF Train\", yrf_train, Xrf_train)"
   ]
  },
  {
   "cell_type": "code",
   "execution_count": 114,
   "metadata": {
    "ExecuteTime": {
     "end_time": "2019-04-26T18:01:43.569337Z",
     "start_time": "2019-04-26T18:01:43.143973Z"
    }
   },
   "outputs": [
    {
     "name": "stdout",
     "output_type": "stream",
     "text": [
      "ROC AUC score =  0.9911855251670745\n"
     ]
    },
    {
     "data": {
      "image/png": "[encoded data removed]",
      "text/plain": [
       "<Figure size 432x288 with 1 Axes>"
      ]
     },
     "metadata": {
      "needs_background": "light"
     },
     "output_type": "display_data"
    }
   ],
   "source": [
    "roc_auc(RFC, \"RFC\", yrf_val, Xrf_val)"
   ]
  },
  {
   "cell_type": "code",
   "execution_count": 115,
   "metadata": {
    "ExecuteTime": {
     "end_time": "2019-04-26T18:01:45.400082Z",
     "start_time": "2019-04-26T18:01:45.190102Z"
    }
   },
   "outputs": [
    {
     "data": {
      "text/plain": [
       "<Figure size 720x504 with 0 Axes>"
      ]
     },
     "execution_count": 115,
     "metadata": {},
     "output_type": "execute_result"
    },
    {
     "data": {
      "image/png": "[encoded data removed]",
      "text/plain": [
       "<Figure size 432x288 with 2 Axes>"
      ]
     },
     "metadata": {
      "needs_background": "light"
     },
     "output_type": "display_data"
    },
    {
     "data": {
      "text/plain": [
       "<Figure size 720x504 with 0 Axes>"
      ]
     },
     "metadata": {},
     "output_type": "display_data"
    }
   ],
   "source": [
    "rfc_cm = confusion_matrix(yrf_val, y_pred_rfc)\n",
    "print_confusion_matrix(rfc_cm)"
   ]
  },
  {
   "cell_type": "code",
   "execution_count": 116,
   "metadata": {
    "ExecuteTime": {
     "end_time": "2019-04-26T18:03:03.709773Z",
     "start_time": "2019-04-26T18:03:03.659444Z"
    }
   },
   "outputs": [],
   "source": [
    "append_to_lists(yrf_val, y_pred_rfc, y_pred_rfc_proba, \"Random Forest, all features\")"
   ]
  },
  {
   "cell_type": "markdown",
   "metadata": {},
   "source": [
    "**Observations**:\n",
    "- Very few red predicted incorrectly. \n",
    "- Still little error, but no huge improvements from earlier models"
   ]
  },
  {
   "cell_type": "markdown",
   "metadata": {},
   "source": [
    "## Evaluate Models"
   ]
  },
  {
   "cell_type": "markdown",
   "metadata": {},
   "source": [
    "### Assess incorrect predictions\n",
    "- Creating a dictionary of models and number of incorrect predictions - to show models with highest accuracy"
   ]
  },
  {
   "cell_type": "code",
   "execution_count": 118,
   "metadata": {
    "ExecuteTime": {
     "end_time": "2019-04-26T18:06:06.625106Z",
     "start_time": "2019-04-26T18:06:06.620053Z"
    }
   },
   "outputs": [
    {
     "data": {
      "text/plain": [
       "{'Log Reg, all features': 19,\n",
       " 'Decision Tree, all features': 21,\n",
       " 'Logistic Regression, Top 2 features': 71,\n",
       " 'Logistic Regression, Top 6 features': 25,\n",
       " 'Logistic Regression, Top 10 features': 18,\n",
       " 'Log Reg - no important features': 19,\n",
       " 'K Nearest Neighbours, all features': 61,\n",
       " 'Random Forest, all features': 20}"
      ]
     },
     "execution_count": 118,
     "metadata": {},
     "output_type": "execute_result"
    }
   ],
   "source": [
    "incorrect_pred_dict = dict(zip(model_name, incorrect_predictions))\n",
    "incorrect_pred_dict"
   ]
  },
  {
   "cell_type": "markdown",
   "metadata": {},
   "source": [
    "- Logistic Regression with top 10 features is the best performing model\n",
    "- Logistic Regression all features = Simplest Model\n",
    "- Random Forest performs well but could overfit\n",
    "- Not a lot of error improvement between logistic regression models with feature engineering\n",
    "- Check if the same incorrect predictions are coming up with the rest of the models"
   ]
  },
  {
   "cell_type": "code",
   "execution_count": 123,
   "metadata": {
    "ExecuteTime": {
     "end_time": "2019-04-26T18:10:14.407114Z",
     "start_time": "2019-04-26T18:10:14.261788Z"
    }
   },
   "outputs": [],
   "source": [
    "# Compare across models to see which predictions are constantly predicted incorrectly compared to Log Reg \n",
    "no_of_same = []\n",
    "for i in list_of_incorrects:\n",
    "    no_of_same.append(len(set(incorrect_rows(y_val, lr_pred)).intersection(i)))"
   ]
  },
  {
   "cell_type": "code",
   "execution_count": 124,
   "metadata": {
    "ExecuteTime": {
     "end_time": "2019-04-26T18:10:16.055583Z",
     "start_time": "2019-04-26T18:10:16.050160Z"
    }
   },
   "outputs": [
    {
     "data": {
      "text/plain": [
       "{'Log Reg, all features': 19,\n",
       " 'Decision Tree, all features': 6,\n",
       " 'Logistic Regression, Top 2 features': 14,\n",
       " 'Logistic Regression, Top 6 features': 12,\n",
       " 'Logistic Regression, Top 10 features': 18,\n",
       " 'Log Reg - no important features': 18,\n",
       " 'K Nearest Neighbours, all features': 9,\n",
       " 'Random Forest, all features': 9}"
      ]
     },
     "execution_count": 124,
     "metadata": {},
     "output_type": "execute_result"
    }
   ],
   "source": [
    "same_incorrects = dict(zip(model_name, no_of_same))\n",
    "same_incorrects"
   ]
  },
  {
   "cell_type": "markdown",
   "metadata": {},
   "source": [
    "**Observations:**\n",
    "- For logistic regression models the same features seem to be consistently incorrectly predicted. \n",
    "- KNN, Descision Trees & Random Forest seem to be predicting different features incorrectly - therefore ensembling models may be the answer."
   ]
  },
  {
   "cell_type": "code",
   "execution_count": 125,
   "metadata": {
    "ExecuteTime": {
     "end_time": "2019-04-26T18:11:39.826452Z",
     "start_time": "2019-04-26T18:11:39.805393Z"
    }
   },
   "outputs": [
    {
     "data": {
      "text/html": [
       "<div>\n",
       "<style scoped>\n",
       "    .dataframe tbody tr th:only-of-type {\n",
       "        vertical-align: middle;\n",
       "    }\n",
       "\n",
       "    .dataframe tbody tr th {\n",
       "        vertical-align: top;\n",
       "    }\n",
       "\n",
       "    .dataframe thead th {\n",
       "        text-align: right;\n",
       "    }\n",
       "</style>\n",
       "<table border=\"1\" class=\"dataframe\">\n",
       "  <thead>\n",
       "    <tr style=\"text-align: right;\">\n",
       "      <th></th>\n",
       "      <th>fixed_acidity</th>\n",
       "      <th>volatile_acidity</th>\n",
       "      <th>citric_acid</th>\n",
       "      <th>residual_sugar</th>\n",
       "      <th>chlorides</th>\n",
       "      <th>free_sulfur_dioxide</th>\n",
       "      <th>total_sulfur_dioxide</th>\n",
       "      <th>density</th>\n",
       "      <th>pH</th>\n",
       "      <th>sulphates</th>\n",
       "      <th>alcohol</th>\n",
       "      <th>free_percentage</th>\n",
       "    </tr>\n",
       "    <tr>\n",
       "      <th>predictor</th>\n",
       "      <th></th>\n",
       "      <th></th>\n",
       "      <th></th>\n",
       "      <th></th>\n",
       "      <th></th>\n",
       "      <th></th>\n",
       "      <th></th>\n",
       "      <th></th>\n",
       "      <th></th>\n",
       "      <th></th>\n",
       "      <th></th>\n",
       "      <th></th>\n",
       "    </tr>\n",
       "  </thead>\n",
       "  <tbody>\n",
       "    <tr>\n",
       "      <th>0</th>\n",
       "      <td>6.854788</td>\n",
       "      <td>0.278241</td>\n",
       "      <td>0.334192</td>\n",
       "      <td>6.391415</td>\n",
       "      <td>0.045772</td>\n",
       "      <td>35.308085</td>\n",
       "      <td>138.360657</td>\n",
       "      <td>0.994027</td>\n",
       "      <td>3.188267</td>\n",
       "      <td>0.489847</td>\n",
       "      <td>10.514267</td>\n",
       "      <td>25.557613</td>\n",
       "    </tr>\n",
       "    <tr>\n",
       "      <th>1</th>\n",
       "      <td>8.319637</td>\n",
       "      <td>0.527821</td>\n",
       "      <td>0.270976</td>\n",
       "      <td>2.538806</td>\n",
       "      <td>0.087467</td>\n",
       "      <td>15.874922</td>\n",
       "      <td>46.467792</td>\n",
       "      <td>0.996747</td>\n",
       "      <td>3.311113</td>\n",
       "      <td>0.658149</td>\n",
       "      <td>10.422983</td>\n",
       "      <td>38.231088</td>\n",
       "    </tr>\n",
       "  </tbody>\n",
       "</table>\n",
       "</div>"
      ],
      "text/plain": [
       "           fixed_acidity  volatile_acidity  citric_acid  residual_sugar  \\\n",
       "predictor                                                                 \n",
       "0               6.854788          0.278241     0.334192        6.391415   \n",
       "1               8.319637          0.527821     0.270976        2.538806   \n",
       "\n",
       "           chlorides  free_sulfur_dioxide  total_sulfur_dioxide   density  \\\n",
       "predictor                                                                   \n",
       "0           0.045772            35.308085            138.360657  0.994027   \n",
       "1           0.087467            15.874922             46.467792  0.996747   \n",
       "\n",
       "                 pH  sulphates    alcohol  free_percentage  \n",
       "predictor                                                   \n",
       "0          3.188267   0.489847  10.514267        25.557613  \n",
       "1          3.311113   0.658149  10.422983        38.231088  "
      ]
     },
     "execution_count": 125,
     "metadata": {},
     "output_type": "execute_result"
    }
   ],
   "source": [
    "# Check mean values of features in full dataset and incorrectly predicted dataframe for Log Reg (All features)\n",
    "wine.groupby('predictor').mean()"
   ]
  },
  {
   "cell_type": "code",
   "execution_count": 126,
   "metadata": {
    "ExecuteTime": {
     "end_time": "2019-04-26T18:13:01.532359Z",
     "start_time": "2019-04-26T18:13:01.485096Z"
    }
   },
   "outputs": [
    {
     "data": {
      "text/html": [
       "<div>\n",
       "<style scoped>\n",
       "    .dataframe tbody tr th:only-of-type {\n",
       "        vertical-align: middle;\n",
       "    }\n",
       "\n",
       "    .dataframe tbody tr th {\n",
       "        vertical-align: top;\n",
       "    }\n",
       "\n",
       "    .dataframe thead th {\n",
       "        text-align: right;\n",
       "    }\n",
       "</style>\n",
       "<table border=\"1\" class=\"dataframe\">\n",
       "  <thead>\n",
       "    <tr style=\"text-align: right;\">\n",
       "      <th></th>\n",
       "      <th>fixed_acidity</th>\n",
       "      <th>volatile_acidity</th>\n",
       "      <th>citric_acid</th>\n",
       "      <th>residual_sugar</th>\n",
       "      <th>chlorides</th>\n",
       "      <th>free_sulfur_dioxide</th>\n",
       "      <th>total_sulfur_dioxide</th>\n",
       "      <th>density</th>\n",
       "      <th>pH</th>\n",
       "      <th>sulphates</th>\n",
       "      <th>alcohol</th>\n",
       "      <th>free_percentage</th>\n",
       "      <th>white_prob</th>\n",
       "      <th>red_prob</th>\n",
       "    </tr>\n",
       "    <tr>\n",
       "      <th>predictor</th>\n",
       "      <th></th>\n",
       "      <th></th>\n",
       "      <th></th>\n",
       "      <th></th>\n",
       "      <th></th>\n",
       "      <th></th>\n",
       "      <th></th>\n",
       "      <th></th>\n",
       "      <th></th>\n",
       "      <th></th>\n",
       "      <th></th>\n",
       "      <th></th>\n",
       "      <th></th>\n",
       "      <th></th>\n",
       "    </tr>\n",
       "  </thead>\n",
       "  <tbody>\n",
       "    <tr>\n",
       "      <th>0</th>\n",
       "      <td>6.340000</td>\n",
       "      <td>0.597000</td>\n",
       "      <td>0.194000</td>\n",
       "      <td>1.44</td>\n",
       "      <td>0.038600</td>\n",
       "      <td>16.600000</td>\n",
       "      <td>69.200000</td>\n",
       "      <td>0.992364</td>\n",
       "      <td>3.262000</td>\n",
       "      <td>0.438</td>\n",
       "      <td>10.520000</td>\n",
       "      <td>32.066</td>\n",
       "      <td>0.241360</td>\n",
       "      <td>0.758640</td>\n",
       "    </tr>\n",
       "    <tr>\n",
       "      <th>1</th>\n",
       "      <td>6.735714</td>\n",
       "      <td>0.454286</td>\n",
       "      <td>0.270714</td>\n",
       "      <td>2.90</td>\n",
       "      <td>0.069357</td>\n",
       "      <td>32.892857</td>\n",
       "      <td>113.214286</td>\n",
       "      <td>0.994761</td>\n",
       "      <td>3.358571</td>\n",
       "      <td>0.615</td>\n",
       "      <td>11.135714</td>\n",
       "      <td>30.605</td>\n",
       "      <td>0.692693</td>\n",
       "      <td>0.307307</td>\n",
       "    </tr>\n",
       "  </tbody>\n",
       "</table>\n",
       "</div>"
      ],
      "text/plain": [
       "           fixed_acidity  volatile_acidity  citric_acid  residual_sugar  \\\n",
       "predictor                                                                 \n",
       "0               6.340000          0.597000     0.194000            1.44   \n",
       "1               6.735714          0.454286     0.270714            2.90   \n",
       "\n",
       "           chlorides  free_sulfur_dioxide  total_sulfur_dioxide   density  \\\n",
       "predictor                                                                   \n",
       "0           0.038600            16.600000             69.200000  0.992364   \n",
       "1           0.069357            32.892857            113.214286  0.994761   \n",
       "\n",
       "                 pH  sulphates    alcohol  free_percentage  white_prob  \\\n",
       "predictor                                                                \n",
       "0          3.262000      0.438  10.520000           32.066    0.241360   \n",
       "1          3.358571      0.615  11.135714           30.605    0.692693   \n",
       "\n",
       "           red_prob  \n",
       "predictor            \n",
       "0          0.758640  \n",
       "1          0.307307  "
      ]
     },
     "execution_count": 126,
     "metadata": {},
     "output_type": "execute_result"
    }
   ],
   "source": [
    "# Create dataframe of just incorrect predictions to observe any deviations from full dataset mean\n",
    "logregall_incorrect_df = incorrect_df(y_val, lr_pred, lr_predprob, wine)\n",
    "\n",
    "logregall_incorrect_df.groupby('predictor').mean()"
   ]
  },
  {
   "cell_type": "markdown",
   "metadata": {},
   "source": [
    "**Observations:**\n",
    "- Full dataset: Mean Total Sulphur Dioxide for White (0) is much higher than those in incorrect predictions. Opposite for Red (1), therefore may be big predictor for incorrect samples. \n",
    "- Lower residual sugar mean in incorrect predictions.\n",
    "- Free sulphur dioxide means approximately reversed for incorrect predictions.\n",
    "- Little differences in alcohol, sulphates, pH, chlorides"
   ]
  },
  {
   "cell_type": "markdown",
   "metadata": {},
   "source": [
    "### Voting Classifer on Logistic Regression & Random Forest\n",
    "- Trying a voting classifier using logistic regression and random forest models to try and reduce the number of misclassifications as these models seem to incorrectly predicting different samples. May be able to catch some of these samples by one model or the other."
   ]
  },
  {
   "cell_type": "code",
   "execution_count": 127,
   "metadata": {
    "ExecuteTime": {
     "end_time": "2019-04-26T18:15:53.178128Z",
     "start_time": "2019-04-26T18:15:53.166518Z"
    }
   },
   "outputs": [],
   "source": [
    "# Redefine Data\n",
    "X_vote = wine.drop('predictor', axis=1)\n",
    "y_vote = wine['predictor']\n",
    "\n",
    "X_train_vote, X_hold_out_vote, y_train_vote, y_hold_out_vote = train_test_split(X_vote, y_vote, test_size=.20, random_state=rs)\n",
    "X_train_vote, X_val_vote, y_train_vote, y_val_vote = train_test_split(X_train_vote, y_train_vote, test_size=.20, random_state=rs)"
   ]
  },
  {
   "cell_type": "code",
   "execution_count": 128,
   "metadata": {
    "ExecuteTime": {
     "end_time": "2019-04-26T18:16:52.593682Z",
     "start_time": "2019-04-26T18:16:52.590103Z"
    }
   },
   "outputs": [],
   "source": [
    "clf1 = LogisticRegression(random_state=rs) # classifier 1 = log reg\n",
    "clf2 = RandomForestClassifier(n_estimators=10, random_state=rs) # classifer 2 = random forest"
   ]
  },
  {
   "cell_type": "markdown",
   "metadata": {},
   "source": [
    "### Hard Voting - Uses predicted class labels for majority rule voting"
   ]
  },
  {
   "cell_type": "code",
   "execution_count": 130,
   "metadata": {
    "ExecuteTime": {
     "end_time": "2019-04-26T18:17:34.841486Z",
     "start_time": "2019-04-26T18:17:34.739564Z"
    }
   },
   "outputs": [],
   "source": [
    "# Hard voting - uses predicted class labels for majority rule voting\n",
    "eclf1 = VotingClassifier(estimators=[('lr', clf1), ('rf', clf2)], voting='hard')\n",
    "eclf1 = eclf1.fit(X_train_vote, y_train_vote)\n",
    "eclf_pred = eclf1.predict(X_val)"
   ]
  },
  {
   "cell_type": "code",
   "execution_count": 131,
   "metadata": {
    "ExecuteTime": {
     "end_time": "2019-04-26T18:17:44.693116Z",
     "start_time": "2019-04-26T18:17:44.485173Z"
    }
   },
   "outputs": [
    {
     "data": {
      "text/plain": [
       "<Figure size 720x504 with 0 Axes>"
      ]
     },
     "execution_count": 131,
     "metadata": {},
     "output_type": "execute_result"
    },
    {
     "data": {
      "image/png": "[encoded data removed]",
      "text/plain": [
       "<Figure size 432x288 with 2 Axes>"
      ]
     },
     "metadata": {
      "needs_background": "light"
     },
     "output_type": "display_data"
    },
    {
     "data": {
      "text/plain": [
       "<Figure size 720x504 with 0 Axes>"
      ]
     },
     "metadata": {},
     "output_type": "display_data"
    }
   ],
   "source": [
    "votehard_cm = confusion_matrix(y_val_vote, eclf_pred)\n",
    "print_confusion_matrix(votehard_cm)"
   ]
  },
  {
   "cell_type": "markdown",
   "metadata": {},
   "source": [
    "### Soft Voting - Predicts class label based on argmax of the sums of the predicted probabilities"
   ]
  },
  {
   "cell_type": "code",
   "execution_count": 133,
   "metadata": {
    "ExecuteTime": {
     "end_time": "2019-04-26T18:18:26.939661Z",
     "start_time": "2019-04-26T18:18:26.845843Z"
    }
   },
   "outputs": [],
   "source": [
    "eclf2 = VotingClassifier(estimators=[('lr', clf1), ('rf', clf2)], voting='soft')\n",
    "eclf2 = eclf2.fit(X_train_vote, y_train_vote)\n",
    "eclf2_pred = eclf2.predict(X_val)\n",
    "eclf2_pred_proba = eclf2.predict_proba(X_val)"
   ]
  },
  {
   "cell_type": "code",
   "execution_count": 134,
   "metadata": {
    "ExecuteTime": {
     "end_time": "2019-04-26T18:18:32.177147Z",
     "start_time": "2019-04-26T18:18:31.933962Z"
    }
   },
   "outputs": [
    {
     "name": "stdout",
     "output_type": "stream",
     "text": [
      "ROC AUC score =  0.997998682806541\n"
     ]
    },
    {
     "data": {
      "image/png": "[encoded data removed]",
      "text/plain": [
       "<Figure size 432x288 with 1 Axes>"
      ]
     },
     "metadata": {
      "needs_background": "light"
     },
     "output_type": "display_data"
    }
   ],
   "source": [
    "roc_auc(eclf2, \"VotingSoft\", y_val_vote, X_val_vote)"
   ]
  },
  {
   "cell_type": "code",
   "execution_count": 135,
   "metadata": {
    "ExecuteTime": {
     "end_time": "2019-04-26T18:18:37.958166Z",
     "start_time": "2019-04-26T18:18:37.749250Z"
    }
   },
   "outputs": [
    {
     "data": {
      "text/plain": [
       "<Figure size 720x504 with 0 Axes>"
      ]
     },
     "execution_count": 135,
     "metadata": {},
     "output_type": "execute_result"
    },
    {
     "data": {
      "image/png": "[encoded data removed]",
      "text/plain": [
       "<Figure size 432x288 with 2 Axes>"
      ]
     },
     "metadata": {
      "needs_background": "light"
     },
     "output_type": "display_data"
    },
    {
     "data": {
      "text/plain": [
       "<Figure size 720x504 with 0 Axes>"
      ]
     },
     "metadata": {},
     "output_type": "display_data"
    }
   ],
   "source": [
    "votesoft_cm = confusion_matrix(y_val_vote, eclf2_pred)\n",
    "print_confusion_matrix(votesoft_cm)"
   ]
  },
  {
   "cell_type": "markdown",
   "metadata": {},
   "source": [
    "### Weighted Voting"
   ]
  },
  {
   "cell_type": "code",
   "execution_count": 136,
   "metadata": {
    "ExecuteTime": {
     "end_time": "2019-04-26T18:18:58.967967Z",
     "start_time": "2019-04-26T18:18:58.882791Z"
    }
   },
   "outputs": [],
   "source": [
    "eclf3 = VotingClassifier(estimators=[('lr', clf1), ('rf', clf2)],voting='soft', weights=[5,1], flatten_transform=True)\n",
    "eclf3 = eclf3.fit(X_train_vote, y_train_vote)\n",
    "eclf3_pred = eclf2.predict(X_val)"
   ]
  },
  {
   "cell_type": "code",
   "execution_count": 137,
   "metadata": {
    "ExecuteTime": {
     "end_time": "2019-04-26T18:19:06.513563Z",
     "start_time": "2019-04-26T18:19:06.269396Z"
    }
   },
   "outputs": [
    {
     "name": "stdout",
     "output_type": "stream",
     "text": [
      "ROC AUC score =  0.99728392666602\n"
     ]
    },
    {
     "data": {
      "image/png": "[encoded data removed]",
      "text/plain": [
       "<Figure size 432x288 with 1 Axes>"
      ]
     },
     "metadata": {
      "needs_background": "light"
     },
     "output_type": "display_data"
    }
   ],
   "source": [
    "roc_auc(eclf3, \"VotingWeighted\", y_val_vote, X_val_vote)"
   ]
  },
  {
   "cell_type": "code",
   "execution_count": 138,
   "metadata": {
    "ExecuteTime": {
     "end_time": "2019-04-26T18:19:13.032363Z",
     "start_time": "2019-04-26T18:19:12.821497Z"
    }
   },
   "outputs": [
    {
     "data": {
      "text/plain": [
       "<Figure size 720x504 with 0 Axes>"
      ]
     },
     "execution_count": 138,
     "metadata": {},
     "output_type": "execute_result"
    },
    {
     "data": {
      "image/png": "[encoded data removed]",
      "text/plain": [
       "<Figure size 432x288 with 2 Axes>"
      ]
     },
     "metadata": {
      "needs_background": "light"
     },
     "output_type": "display_data"
    },
    {
     "data": {
      "text/plain": [
       "<Figure size 720x504 with 0 Axes>"
      ]
     },
     "metadata": {},
     "output_type": "display_data"
    }
   ],
   "source": [
    "voteweight_cm = confusion_matrix(y_val_vote, eclf3_pred)\n",
    "print_confusion_matrix(voteweight_cm)"
   ]
  },
  {
   "cell_type": "markdown",
   "metadata": {},
   "source": [
    "**Observations:**\n",
    "- Both soft voting and weighted voting reduce the number of incorrect predictions to just 8.\n",
    "- Soft voting is easier to interpret as a weighted voting classifier's parameters can be altered more"
   ]
  },
  {
   "cell_type": "markdown",
   "metadata": {},
   "source": [
    "## Run Model on Test Data"
   ]
  },
  {
   "cell_type": "markdown",
   "metadata": {},
   "source": [
    "### Most Effective: Soft Voting Logistic Regression & Random Forest"
   ]
  },
  {
   "cell_type": "code",
   "execution_count": 139,
   "metadata": {
    "ExecuteTime": {
     "end_time": "2019-04-26T18:20:53.292913Z",
     "start_time": "2019-04-26T18:20:53.277233Z"
    }
   },
   "outputs": [],
   "source": [
    "vote_final_prediction = eclf2.predict(X_hold_out)\n",
    "vote_final_prediction_proba = eclf2.predict_proba(X_hold_out)"
   ]
  },
  {
   "cell_type": "code",
   "execution_count": 140,
   "metadata": {
    "ExecuteTime": {
     "end_time": "2019-04-26T18:20:59.060501Z",
     "start_time": "2019-04-26T18:20:58.812830Z"
    }
   },
   "outputs": [
    {
     "name": "stdout",
     "output_type": "stream",
     "text": [
      "ROC AUC score =  0.9987917072300357\n"
     ]
    },
    {
     "data": {
      "image/png": "[encoded data removed]",
      "text/plain": [
       "<Figure size 432x288 with 1 Axes>"
      ]
     },
     "metadata": {
      "needs_background": "light"
     },
     "output_type": "display_data"
    }
   ],
   "source": [
    "roc_auc(eclf2, \"VotingSoft\", y_hold_out, X_hold_out)"
   ]
  },
  {
   "cell_type": "code",
   "execution_count": 141,
   "metadata": {
    "ExecuteTime": {
     "end_time": "2019-04-26T18:21:09.827251Z",
     "start_time": "2019-04-26T18:21:09.622189Z"
    }
   },
   "outputs": [
    {
     "data": {
      "text/plain": [
       "<Figure size 720x504 with 0 Axes>"
      ]
     },
     "execution_count": 141,
     "metadata": {},
     "output_type": "execute_result"
    },
    {
     "data": {
      "image/png": "[encoded data removed]",
      "text/plain": [
       "<Figure size 432x288 with 2 Axes>"
      ]
     },
     "metadata": {
      "needs_background": "light"
     },
     "output_type": "display_data"
    },
    {
     "data": {
      "text/plain": [
       "<Figure size 720x504 with 0 Axes>"
      ]
     },
     "metadata": {},
     "output_type": "display_data"
    }
   ],
   "source": [
    "votesoftfinal_cm = confusion_matrix(y_hold_out, vote_final_prediction)\n",
    "print_confusion_matrix(votesoftfinal_cm)"
   ]
  },
  {
   "cell_type": "code",
   "execution_count": 144,
   "metadata": {
    "ExecuteTime": {
     "end_time": "2019-04-26T18:22:11.266208Z",
     "start_time": "2019-04-26T18:22:10.894863Z"
    }
   },
   "outputs": [
    {
     "name": "stdout",
     "output_type": "stream",
     "text": [
      "Final Soft Voting Av Accuracy: 0.985\n",
      "Final Soft Voting Av Precision: 0.994\n",
      "Final Soft Voting Av Recall: 0.948\n",
      "Final Soft Voting Av F1: 0.97\n"
     ]
    }
   ],
   "source": [
    "ModelErrors(eclf2, X_hold_out, y_hold_out, 'Final Soft Voting')"
   ]
  },
  {
   "cell_type": "markdown",
   "metadata": {},
   "source": [
    "### Simplest Model: Logistic Regression"
   ]
  },
  {
   "cell_type": "code",
   "execution_count": 145,
   "metadata": {
    "ExecuteTime": {
     "end_time": "2019-04-26T18:22:40.921832Z",
     "start_time": "2019-04-26T18:22:40.917225Z"
    }
   },
   "outputs": [],
   "source": [
    "logreg_prediction = lr.predict(X_hold_out)"
   ]
  },
  {
   "cell_type": "code",
   "execution_count": 146,
   "metadata": {
    "ExecuteTime": {
     "end_time": "2019-04-26T18:22:45.456323Z",
     "start_time": "2019-04-26T18:22:45.212948Z"
    }
   },
   "outputs": [
    {
     "name": "stdout",
     "output_type": "stream",
     "text": [
      "ROC AUC score =  0.9943999073433524\n"
     ]
    },
    {
     "data": {
      "image/png": "[encoded data removed]",
      "text/plain": [
       "<Figure size 432x288 with 1 Axes>"
      ]
     },
     "metadata": {
      "needs_background": "light"
     },
     "output_type": "display_data"
    }
   ],
   "source": [
    "roc_auc(lr, \"Logistic Regression\", y_hold_out, X_hold_out)"
   ]
  },
  {
   "cell_type": "code",
   "execution_count": 147,
   "metadata": {
    "ExecuteTime": {
     "end_time": "2019-04-26T18:22:51.796371Z",
     "start_time": "2019-04-26T18:22:51.595826Z"
    }
   },
   "outputs": [
    {
     "data": {
      "text/plain": [
       "<Figure size 720x504 with 0 Axes>"
      ]
     },
     "execution_count": 147,
     "metadata": {},
     "output_type": "execute_result"
    },
    {
     "data": {
      "image/png": "[encoded data removed]",
      "text/plain": [
       "<Figure size 432x288 with 2 Axes>"
      ]
     },
     "metadata": {
      "needs_background": "light"
     },
     "output_type": "display_data"
    },
    {
     "data": {
      "text/plain": [
       "<Figure size 720x504 with 0 Axes>"
      ]
     },
     "metadata": {},
     "output_type": "display_data"
    }
   ],
   "source": [
    "lrfinal_cm = confusion_matrix(y_hold_out, logreg_prediction)\n",
    "print_confusion_matrix(lrfinal_cm)"
   ]
  },
  {
   "cell_type": "code",
   "execution_count": 148,
   "metadata": {
    "ExecuteTime": {
     "end_time": "2019-04-26T18:23:11.047215Z",
     "start_time": "2019-04-26T18:23:10.921929Z"
    }
   },
   "outputs": [
    {
     "name": "stdout",
     "output_type": "stream",
     "text": [
      "Final Log Regression Av Accuracy: 0.967\n",
      "Final Log Regression Av Precision: 0.962\n",
      "Final Log Regression Av Recall: 0.906\n",
      "Final Log Regression Av F1: 0.933\n"
     ]
    }
   ],
   "source": [
    "ModelErrors(lr, X_hold_out, y_hold_out, 'Final Log Regression')"
   ]
  },
  {
   "cell_type": "markdown",
   "metadata": {},
   "source": [
    "## Tableau Dashboard Prep \n",
    "- Wanted to create a Tableau dashboard to look further into the missclassified samples and analyse their characteristics in comparison to other samples.\n",
    "- Create dataframe of test data with details of model prediction.\n",
    "- Using the Voting Classifier as this was best performing model."
   ]
  },
  {
   "cell_type": "code",
   "execution_count": 150,
   "metadata": {
    "ExecuteTime": {
     "end_time": "2019-04-26T18:26:20.092958Z",
     "start_time": "2019-04-26T18:26:20.083358Z"
    }
   },
   "outputs": [],
   "source": [
    "# Change Predictor column back to Red and White for visuals\n",
    "# Create predictor column (Y) and drop text column of wine colors: \n",
    "def wine_type(number):\n",
    "    '''Changes predictor value to typ again\n",
    "    White = 0\n",
    "    Red = 1'''\n",
    "    \n",
    "    if number == 0:\n",
    "        return \"White\"\n",
    "    if number == 1:\n",
    "        return \"Red\"\n",
    "\n",
    "wine[\"colour\"] = wine[\"predictor\"].apply(wine_type)\n",
    "wine.drop(\"predictor\", axis=1, inplace=True)"
   ]
  },
  {
   "cell_type": "code",
   "execution_count": 151,
   "metadata": {
    "ExecuteTime": {
     "end_time": "2019-04-26T18:26:22.472635Z",
     "start_time": "2019-04-26T18:26:22.381018Z"
    }
   },
   "outputs": [],
   "source": [
    "# Make test data frame\n",
    "test_data = pd.concat([X_hold_out, pd.DataFrame(y_hold_out)], axis=1, sort=False)\n",
    "test_data[\"colour\"] = test_data[\"predictor\"].apply(wine_type)\n",
    "test_data.drop(\"predictor\", axis=1, inplace=True)\n",
    "\n",
    "# Make dataframe of incorrect predictions \n",
    "votes_incorrect = incorrect_df(y_hold_out, vote_final_prediction, vote_final_prediction_proba, wine)\n",
    "\n",
    "# Add incorrect column on to predicted dataframe\n",
    "votes_incorrect[\"model_prediction\"] = \"incorrect\"\n",
    "\n",
    "# Add to test dataframe\n",
    "full_data = pd.concat([test_data, votes_incorrect], axis=1, sort=False)\n",
    "\n",
    "# Change NaNs in prediction column to Correct\n",
    "full_data.model_prediction = full_data.model_prediction.fillna('correct')\n",
    "\n",
    "# Drop rest of the columns \n",
    "full_data.dropna(axis=1, inplace=True)\n",
    "\n",
    "# Add sample number column\n",
    "full_data[\"sample_number\"] = range(1, len(full_data)+1)\n",
    "\n",
    "#save dataframe as csv\n",
    "full_data.to_csv('full_data.csv', index=False)"
   ]
  },
  {
   "cell_type": "code",
   "execution_count": 153,
   "metadata": {
    "ExecuteTime": {
     "end_time": "2019-04-26T18:26:54.546887Z",
     "start_time": "2019-04-26T18:26:54.524994Z"
    }
   },
   "outputs": [
    {
     "data": {
      "text/html": [
       "<div>\n",
       "<style scoped>\n",
       "    .dataframe tbody tr th:only-of-type {\n",
       "        vertical-align: middle;\n",
       "    }\n",
       "\n",
       "    .dataframe tbody tr th {\n",
       "        vertical-align: top;\n",
       "    }\n",
       "\n",
       "    .dataframe thead th {\n",
       "        text-align: right;\n",
       "    }\n",
       "</style>\n",
       "<table border=\"1\" class=\"dataframe\">\n",
       "  <thead>\n",
       "    <tr style=\"text-align: right;\">\n",
       "      <th></th>\n",
       "      <th>fixed_acidity</th>\n",
       "      <th>volatile_acidity</th>\n",
       "      <th>citric_acid</th>\n",
       "      <th>residual_sugar</th>\n",
       "      <th>chlorides</th>\n",
       "      <th>free_sulfur_dioxide</th>\n",
       "      <th>total_sulfur_dioxide</th>\n",
       "      <th>density</th>\n",
       "      <th>pH</th>\n",
       "      <th>sulphates</th>\n",
       "      <th>alcohol</th>\n",
       "      <th>free_percentage</th>\n",
       "      <th>colour</th>\n",
       "      <th>model_prediction</th>\n",
       "      <th>sample_number</th>\n",
       "    </tr>\n",
       "  </thead>\n",
       "  <tbody>\n",
       "    <tr>\n",
       "      <th>0</th>\n",
       "      <td>7.4</td>\n",
       "      <td>0.70</td>\n",
       "      <td>0.00</td>\n",
       "      <td>1.9</td>\n",
       "      <td>0.076</td>\n",
       "      <td>11.0</td>\n",
       "      <td>34.0</td>\n",
       "      <td>0.9978</td>\n",
       "      <td>3.51</td>\n",
       "      <td>0.56</td>\n",
       "      <td>9.4</td>\n",
       "      <td>32.35</td>\n",
       "      <td>Red</td>\n",
       "      <td>correct</td>\n",
       "      <td>1</td>\n",
       "    </tr>\n",
       "    <tr>\n",
       "      <th>9</th>\n",
       "      <td>7.5</td>\n",
       "      <td>0.50</td>\n",
       "      <td>0.36</td>\n",
       "      <td>6.1</td>\n",
       "      <td>0.071</td>\n",
       "      <td>17.0</td>\n",
       "      <td>102.0</td>\n",
       "      <td>0.9978</td>\n",
       "      <td>3.35</td>\n",
       "      <td>0.80</td>\n",
       "      <td>10.5</td>\n",
       "      <td>16.67</td>\n",
       "      <td>Red</td>\n",
       "      <td>correct</td>\n",
       "      <td>2</td>\n",
       "    </tr>\n",
       "    <tr>\n",
       "      <th>13</th>\n",
       "      <td>7.8</td>\n",
       "      <td>0.61</td>\n",
       "      <td>0.29</td>\n",
       "      <td>1.6</td>\n",
       "      <td>0.114</td>\n",
       "      <td>9.0</td>\n",
       "      <td>29.0</td>\n",
       "      <td>0.9974</td>\n",
       "      <td>3.26</td>\n",
       "      <td>1.56</td>\n",
       "      <td>9.1</td>\n",
       "      <td>31.03</td>\n",
       "      <td>Red</td>\n",
       "      <td>correct</td>\n",
       "      <td>3</td>\n",
       "    </tr>\n",
       "    <tr>\n",
       "      <th>14</th>\n",
       "      <td>8.9</td>\n",
       "      <td>0.62</td>\n",
       "      <td>0.18</td>\n",
       "      <td>3.8</td>\n",
       "      <td>0.176</td>\n",
       "      <td>52.0</td>\n",
       "      <td>145.0</td>\n",
       "      <td>0.9986</td>\n",
       "      <td>3.16</td>\n",
       "      <td>0.88</td>\n",
       "      <td>9.2</td>\n",
       "      <td>35.86</td>\n",
       "      <td>Red</td>\n",
       "      <td>correct</td>\n",
       "      <td>4</td>\n",
       "    </tr>\n",
       "    <tr>\n",
       "      <th>20</th>\n",
       "      <td>8.9</td>\n",
       "      <td>0.22</td>\n",
       "      <td>0.48</td>\n",
       "      <td>1.8</td>\n",
       "      <td>0.077</td>\n",
       "      <td>29.0</td>\n",
       "      <td>60.0</td>\n",
       "      <td>0.9968</td>\n",
       "      <td>3.39</td>\n",
       "      <td>0.53</td>\n",
       "      <td>9.4</td>\n",
       "      <td>48.33</td>\n",
       "      <td>Red</td>\n",
       "      <td>correct</td>\n",
       "      <td>5</td>\n",
       "    </tr>\n",
       "  </tbody>\n",
       "</table>\n",
       "</div>"
      ],
      "text/plain": [
       "    fixed_acidity  volatile_acidity  citric_acid  residual_sugar  chlorides  \\\n",
       "0             7.4              0.70         0.00             1.9      0.076   \n",
       "9             7.5              0.50         0.36             6.1      0.071   \n",
       "13            7.8              0.61         0.29             1.6      0.114   \n",
       "14            8.9              0.62         0.18             3.8      0.176   \n",
       "20            8.9              0.22         0.48             1.8      0.077   \n",
       "\n",
       "    free_sulfur_dioxide  total_sulfur_dioxide  density    pH  sulphates  \\\n",
       "0                  11.0                  34.0   0.9978  3.51       0.56   \n",
       "9                  17.0                 102.0   0.9978  3.35       0.80   \n",
       "13                  9.0                  29.0   0.9974  3.26       1.56   \n",
       "14                 52.0                 145.0   0.9986  3.16       0.88   \n",
       "20                 29.0                  60.0   0.9968  3.39       0.53   \n",
       "\n",
       "    alcohol  free_percentage colour model_prediction  sample_number  \n",
       "0       9.4            32.35    Red          correct              1  \n",
       "9      10.5            16.67    Red          correct              2  \n",
       "13      9.1            31.03    Red          correct              3  \n",
       "14      9.2            35.86    Red          correct              4  \n",
       "20      9.4            48.33    Red          correct              5  "
      ]
     },
     "execution_count": 153,
     "metadata": {},
     "output_type": "execute_result"
    }
   ],
   "source": [
    "# Full test data set with details on model prediction\n",
    "full_data.head()"
   ]
  },
  {
   "cell_type": "markdown",
   "metadata": {},
   "source": [
    "---"
   ]
  },
  {
   "cell_type": "markdown",
   "metadata": {},
   "source": [
    "**Why are Sulphur Dioxide & Chlorides such important features in defining wine colour?** \n",
    "\n",
    "Sulphur Dioxide acts as a preservative within wine due to its anti-oxidative and anti-microbial properties. The total amount of sulphur dioxide is generally higher in white wine than red, as there are fewer tannins, which also act as a preservative. Tannins are found in the grape skins and seeds, which are greatly reduced in white wine as they are not typically fermented with their skins or seeds, unlike red. It’s not uncommon for sulphur dioxide to be added to the wine in the making process to ensure preservation. Similarly, higher chloride levels are found in red wines, due to the presence of chlorides in the skin and seeds. Minerals are stored in the skin and seeds after been absorbed from the soil through the vine, therefore varies across wine from different regions."
   ]
  }
 ],
 "metadata": {
  "kernelspec": {
   "display_name": "Python 3",
   "language": "python",
   "name": "python3"
  },
  "language_info": {
   "codemirror_mode": {
    "name": "ipython",
    "version": 3
   },
   "file_extension": ".py",
   "mimetype": "text/x-python",
   "name": "python",
   "nbconvert_exporter": "python",
   "pygments_lexer": "ipython3",
   "version": "3.6.8"
  },
  "toc": {
   "base_numbering": 1,
   "nav_menu": {},
   "number_sections": true,
   "sideBar": true,
   "skip_h1_title": false,
   "title_cell": "Table of Contents",
   "title_sidebar": "Contents",
   "toc_cell": false,
   "toc_position": {},
   "toc_section_display": true,
   "toc_window_display": false
  },
  "varInspector": {
   "cols": {
    "lenName": 16,
    "lenType": 16,
    "lenVar": 40
   },
   "kernels_config": {
    "python": {
     "delete_cmd_postfix": "",
     "delete_cmd_prefix": "del ",
     "library": "var_list.py",
     "varRefreshCmd": "print(var_dic_list())"
    },
    "r": {
     "delete_cmd_postfix": ") ",
     "delete_cmd_prefix": "rm(",
     "library": "var_list.r",
     "varRefreshCmd": "cat(var_dic_list()) "
    }
   },
   "types_to_exclude": [
    "module",
    "function",
    "builtin_function_or_method",
    "instance",
    "_Feature"
   ],
   "window_display": false
  }
 },
 "nbformat": 4,
 "nbformat_minor": 2
}
